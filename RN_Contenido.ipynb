{
 "cells": [
  {
   "cell_type": "markdown",
   "metadata": {},
   "source": [
    "# Sistema de recomendaciones basado en Contenido\n",
    "## Universidad del Valle de Guatemala <br> Facultad de Ingeniería\n",
    "#### Departamento de Ciencias de la Computación <br> Deep Learning y Sistemas Inteligentes - Sección 20 <br><br> Jeyner Arango 201106 <br> Cristian Laynez 201281\n"
   ]
  },
  {
   "cell_type": "code",
   "execution_count": 1,
   "metadata": {},
   "outputs": [],
   "source": [
    "# Importar las librerias\n",
    "import pandas as pd\n",
    "import numpy as np\n",
    "from sklearn.model_selection import train_test_split\n",
    "from sklearn.metrics import mean_squared_error\n",
    "from sklearn.preprocessing import LabelEncoder, MinMaxScaler\n",
    "from keras.models import Model\n",
    "from keras.layers import Input, Embedding, Concatenate, Flatten, Dense\n",
    "\n",
    "from sklearn.feature_extraction.text import TfidfVectorizer\n",
    "from sklearn.metrics.pairwise import cosine_similarity"
   ]
  },
  {
   "cell_type": "code",
   "execution_count": 2,
   "metadata": {},
   "outputs": [
    {
     "data": {
      "text/html": [
       "<div>\n",
       "<style scoped>\n",
       "    .dataframe tbody tr th:only-of-type {\n",
       "        vertical-align: middle;\n",
       "    }\n",
       "\n",
       "    .dataframe tbody tr th {\n",
       "        vertical-align: top;\n",
       "    }\n",
       "\n",
       "    .dataframe thead th {\n",
       "        text-align: right;\n",
       "    }\n",
       "</style>\n",
       "<table border=\"1\" class=\"dataframe\">\n",
       "  <thead>\n",
       "    <tr style=\"text-align: right;\">\n",
       "      <th></th>\n",
       "      <th>User-ID</th>\n",
       "      <th>ISBN</th>\n",
       "      <th>Book-Rating</th>\n",
       "      <th>Book-Title</th>\n",
       "      <th>Book-Author</th>\n",
       "      <th>Location</th>\n",
       "      <th>Age</th>\n",
       "    </tr>\n",
       "  </thead>\n",
       "  <tbody>\n",
       "    <tr>\n",
       "      <th>0</th>\n",
       "      <td>105221</td>\n",
       "      <td>0590353403</td>\n",
       "      <td>10</td>\n",
       "      <td>Harry Potter and the Sorcerer's Stone (Book 1)</td>\n",
       "      <td>J. K. Rowling</td>\n",
       "      <td>la mesa, california, usa</td>\n",
       "      <td>15.0</td>\n",
       "    </tr>\n",
       "    <tr>\n",
       "      <th>1</th>\n",
       "      <td>105214</td>\n",
       "      <td>1573220221</td>\n",
       "      <td>10</td>\n",
       "      <td>The Color of Water: A Black Man's Tribute to H...</td>\n",
       "      <td>James McBride</td>\n",
       "      <td>pittsburgh, pennsylvania, usa</td>\n",
       "      <td>34.0</td>\n",
       "    </tr>\n",
       "    <tr>\n",
       "      <th>2</th>\n",
       "      <td>26421</td>\n",
       "      <td>1558743669</td>\n",
       "      <td>10</td>\n",
       "      <td>A Child Called \\It\\\": One Child's Courage to S...</td>\n",
       "      <td>Dave Pelzer</td>\n",
       "      <td>st. albans, west virginia, usa</td>\n",
       "      <td>-1.0</td>\n",
       "    </tr>\n",
       "    <tr>\n",
       "      <th>3</th>\n",
       "      <td>105221</td>\n",
       "      <td>0064407667</td>\n",
       "      <td>10</td>\n",
       "      <td>The Bad Beginning (A Series of Unfortunate Eve...</td>\n",
       "      <td>Lemony Snicket</td>\n",
       "      <td>la mesa, california, usa</td>\n",
       "      <td>15.0</td>\n",
       "    </tr>\n",
       "    <tr>\n",
       "      <th>4</th>\n",
       "      <td>105221</td>\n",
       "      <td>0064407675</td>\n",
       "      <td>10</td>\n",
       "      <td>The Reptile Room (A Series of Unfortunate Even...</td>\n",
       "      <td>Lemony Snicket</td>\n",
       "      <td>la mesa, california, usa</td>\n",
       "      <td>15.0</td>\n",
       "    </tr>\n",
       "  </tbody>\n",
       "</table>\n",
       "</div>"
      ],
      "text/plain": [
       "   User-ID        ISBN  Book-Rating  \\\n",
       "0   105221  0590353403           10   \n",
       "1   105214  1573220221           10   \n",
       "2    26421  1558743669           10   \n",
       "3   105221  0064407667           10   \n",
       "4   105221  0064407675           10   \n",
       "\n",
       "                                          Book-Title     Book-Author  \\\n",
       "0     Harry Potter and the Sorcerer's Stone (Book 1)   J. K. Rowling   \n",
       "1  The Color of Water: A Black Man's Tribute to H...   James McBride   \n",
       "2  A Child Called \\It\\\": One Child's Courage to S...     Dave Pelzer   \n",
       "3  The Bad Beginning (A Series of Unfortunate Eve...  Lemony Snicket   \n",
       "4  The Reptile Room (A Series of Unfortunate Even...  Lemony Snicket   \n",
       "\n",
       "                         Location   Age  \n",
       "0        la mesa, california, usa  15.0  \n",
       "1   pittsburgh, pennsylvania, usa  34.0  \n",
       "2  st. albans, west virginia, usa  -1.0  \n",
       "3        la mesa, california, usa  15.0  \n",
       "4        la mesa, california, usa  15.0  "
      ]
     },
     "execution_count": 2,
     "metadata": {},
     "output_type": "execute_result"
    }
   ],
   "source": [
    "books_data = pd.read_csv(\"./data/_best_scores.csv\")\n",
    "books_data.head()"
   ]
  },
  {
   "cell_type": "markdown",
   "metadata": {},
   "source": [
    "### Ahora vamos a construir un modelo para crear el sistema de recomendación"
   ]
  },
  {
   "cell_type": "code",
   "execution_count": 3,
   "metadata": {},
   "outputs": [
    {
     "data": {
      "text/plain": [
       "25000"
      ]
     },
     "execution_count": 3,
     "metadata": {},
     "output_type": "execute_result"
    }
   ],
   "source": [
    "len(books_data)"
   ]
  },
  {
   "cell_type": "code",
   "execution_count": 4,
   "metadata": {},
   "outputs": [
    {
     "data": {
      "text/plain": [
       "0       Harry Potter and the Sorcerer's Stone (Book 1)\n",
       "1    The Color of Water: A Black Man's Tribute to H...\n",
       "2    A Child Called \\It\\\": One Child's Courage to S...\n",
       "3    The Bad Beginning (A Series of Unfortunate Eve...\n",
       "4    The Reptile Room (A Series of Unfortunate Even...\n",
       "Name: Book-Title, dtype: object"
      ]
     },
     "execution_count": 4,
     "metadata": {},
     "output_type": "execute_result"
    }
   ],
   "source": [
    "books_data[\"Book-Title\"].head()"
   ]
  },
  {
   "cell_type": "code",
   "execution_count": 5,
   "metadata": {},
   "outputs": [
    {
     "data": {
      "text/plain": [
       "(25000, 15654)"
      ]
     },
     "execution_count": 5,
     "metadata": {},
     "output_type": "execute_result"
    }
   ],
   "source": [
    "tfidf = TfidfVectorizer(stop_words=\"english\")\n",
    "\n",
    "books_data[\"Book-Title\"] = books_data[\"Book-Title\"].fillna(\" \")\n",
    "\n",
    "tfidf_matrix = tfidf.fit_transform(books_data[\"Book-Title\"])\n",
    "\n",
    "tfidf_matrix.shape"
   ]
  },
  {
   "cell_type": "code",
   "execution_count": 6,
   "metadata": {},
   "outputs": [
    {
     "data": {
      "text/plain": [
       "(25000, 25000)"
      ]
     },
     "execution_count": 6,
     "metadata": {},
     "output_type": "execute_result"
    }
   ],
   "source": [
    "tfidf_matrix = tfidf_matrix.astype(np.float32)\n",
    "\n",
    "tfidf_matrix = tfidf_matrix[:25000, :25000]\n",
    "\n",
    "tfidf_matrix = tfidf_matrix.toarray()\n",
    "\n",
    "cosine_sim_books = cosine_similarity(tfidf_matrix, tfidf_matrix)\n",
    "\n",
    "cosine_sim_books.shape"
   ]
  },
  {
   "cell_type": "code",
   "execution_count": 7,
   "metadata": {},
   "outputs": [],
   "source": [
    "def get_book_recommendations(book_title, cosine_sim_matrix, df, top_n=10):\n",
    "    indices = pd.Series(df.index, index=df[\"Book-Title\"]).drop_duplicates()\n",
    "    book_index = indices[book_title]\n",
    "\n",
    "    similarity_scores = pd.DataFrame(cosine_sim_matrix[book_index], columns=[\"score\"])\n",
    "    book_indices = similarity_scores.sort_values(\"score\", ascending=False)[1:top_n+1].index\n",
    "\n",
    "    recommended_books = df[\"Book-Title\"].iloc[book_indices]\n",
    "    return recommended_books"
   ]
  },
  {
   "cell_type": "code",
   "execution_count": 8,
   "metadata": {},
   "outputs": [
    {
     "name": "stdout",
     "output_type": "stream",
     "text": [
      "Book recommendations for 'Mr. Wroe's Virgins':\n",
      "4965     Virgins of Paradise\n",
      "15019                  Mr. X\n",
      "3739              Mr. Murder\n",
      "22469             Mr. Murder\n",
      "1303              Mr. Murder\n",
      "16757            Mr. Perfect\n",
      "5487             Mr. Perfect\n",
      "4005             Mr. Perfect\n",
      "690              Mr. Perfect\n",
      "10644            Mr. Perfect\n",
      "Name: Book-Title, dtype: object\n"
     ]
    }
   ],
   "source": [
    "target_book = \"Mr. Wroe's Virgins\"\n",
    "book_recommendations = get_book_recommendations(target_book, cosine_sim_books, books_data)\n",
    "print(f\"Book recommendations for '{target_book}':\")\n",
    "print(book_recommendations)"
   ]
  }
 ],
 "metadata": {
  "kernelspec": {
   "display_name": "Python 3",
   "language": "python",
   "name": "python3"
  },
  "language_info": {
   "codemirror_mode": {
    "name": "ipython",
    "version": 3
   },
   "file_extension": ".py",
   "mimetype": "text/x-python",
   "name": "python",
   "nbconvert_exporter": "python",
   "pygments_lexer": "ipython3",
   "version": "3.11.5"
  }
 },
 "nbformat": 4,
 "nbformat_minor": 2
}
