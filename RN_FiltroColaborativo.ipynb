{
 "cells": [
  {
   "cell_type": "markdown",
   "metadata": {},
   "source": [
    "# Sistema de recomendaciones basado en Filtros Colaborativos\n",
    "## Universidad del Valle de Guatemala <br> Facultad de Ingeniería\n",
    "#### Departamento de Ciencias de la Computación <br> Deep Learning y Sistemas Inteligentes - Sección 20 <br><br> Jeyner Arango 201106 <br> Cristian Laynez 201281\n"
   ]
  },
  {
   "cell_type": "code",
   "execution_count": 1,
   "metadata": {},
   "outputs": [],
   "source": [
    "import numpy as np\n",
    "import pandas as pd\n",
    "import matplotlib.pyplot as plt\n",
    "import os, tensorflow as tf\n",
    "import warnings\n",
    "from keras.layers import Input, Embedding, Flatten, Dot, Dense\n",
    "from keras.models import Model"
   ]
  },
  {
   "cell_type": "code",
   "execution_count": 2,
   "metadata": {},
   "outputs": [
    {
     "name": "stderr",
     "output_type": "stream",
     "text": [
      "C:\\Users\\Administrador\\AppData\\Local\\Temp\\ipykernel_12520\\1704119025.py:1: DtypeWarning: Columns (3) have mixed types. Specify dtype option on import or set low_memory=False.\n",
      "  books = pd.read_csv(\"./data/Books.csv\")\n"
     ]
    }
   ],
   "source": [
    "books = pd.read_csv(\"./data/Books.csv\")\n",
    "ratings = pd.read_csv(\"./data/Ratings.csv\")"
   ]
  },
  {
   "cell_type": "code",
   "execution_count": 76,
   "metadata": {},
   "outputs": [
    {
     "data": {
      "text/html": [
       "<div>\n",
       "<style scoped>\n",
       "    .dataframe tbody tr th:only-of-type {\n",
       "        vertical-align: middle;\n",
       "    }\n",
       "\n",
       "    .dataframe tbody tr th {\n",
       "        vertical-align: top;\n",
       "    }\n",
       "\n",
       "    .dataframe thead th {\n",
       "        text-align: right;\n",
       "    }\n",
       "</style>\n",
       "<table border=\"1\" class=\"dataframe\">\n",
       "  <thead>\n",
       "    <tr style=\"text-align: right;\">\n",
       "      <th></th>\n",
       "      <th>ISBN</th>\n",
       "      <th>Book-Title</th>\n",
       "      <th>Book-Author</th>\n",
       "      <th>Year-Of-Publication</th>\n",
       "      <th>Publisher</th>\n",
       "      <th>Image-URL-S</th>\n",
       "      <th>Image-URL-M</th>\n",
       "      <th>Image-URL-L</th>\n",
       "    </tr>\n",
       "  </thead>\n",
       "  <tbody>\n",
       "    <tr>\n",
       "      <th>0</th>\n",
       "      <td>0195153448</td>\n",
       "      <td>Classical Mythology</td>\n",
       "      <td>Mark P. O. Morford</td>\n",
       "      <td>2002</td>\n",
       "      <td>Oxford University Press</td>\n",
       "      <td>http://images.amazon.com/images/P/0195153448.0...</td>\n",
       "      <td>http://images.amazon.com/images/P/0195153448.0...</td>\n",
       "      <td>http://images.amazon.com/images/P/0195153448.0...</td>\n",
       "    </tr>\n",
       "    <tr>\n",
       "      <th>1</th>\n",
       "      <td>0002005018</td>\n",
       "      <td>Clara Callan</td>\n",
       "      <td>Richard Bruce Wright</td>\n",
       "      <td>2001</td>\n",
       "      <td>HarperFlamingo Canada</td>\n",
       "      <td>http://images.amazon.com/images/P/0002005018.0...</td>\n",
       "      <td>http://images.amazon.com/images/P/0002005018.0...</td>\n",
       "      <td>http://images.amazon.com/images/P/0002005018.0...</td>\n",
       "    </tr>\n",
       "    <tr>\n",
       "      <th>2</th>\n",
       "      <td>0060973129</td>\n",
       "      <td>Decision in Normandy</td>\n",
       "      <td>Carlo D'Este</td>\n",
       "      <td>1991</td>\n",
       "      <td>HarperPerennial</td>\n",
       "      <td>http://images.amazon.com/images/P/0060973129.0...</td>\n",
       "      <td>http://images.amazon.com/images/P/0060973129.0...</td>\n",
       "      <td>http://images.amazon.com/images/P/0060973129.0...</td>\n",
       "    </tr>\n",
       "    <tr>\n",
       "      <th>3</th>\n",
       "      <td>0374157065</td>\n",
       "      <td>Flu: The Story of the Great Influenza Pandemic...</td>\n",
       "      <td>Gina Bari Kolata</td>\n",
       "      <td>1999</td>\n",
       "      <td>Farrar Straus Giroux</td>\n",
       "      <td>http://images.amazon.com/images/P/0374157065.0...</td>\n",
       "      <td>http://images.amazon.com/images/P/0374157065.0...</td>\n",
       "      <td>http://images.amazon.com/images/P/0374157065.0...</td>\n",
       "    </tr>\n",
       "    <tr>\n",
       "      <th>4</th>\n",
       "      <td>0393045218</td>\n",
       "      <td>The Mummies of Urumchi</td>\n",
       "      <td>E. J. W. Barber</td>\n",
       "      <td>1999</td>\n",
       "      <td>W. W. Norton &amp;amp; Company</td>\n",
       "      <td>http://images.amazon.com/images/P/0393045218.0...</td>\n",
       "      <td>http://images.amazon.com/images/P/0393045218.0...</td>\n",
       "      <td>http://images.amazon.com/images/P/0393045218.0...</td>\n",
       "    </tr>\n",
       "  </tbody>\n",
       "</table>\n",
       "</div>"
      ],
      "text/plain": [
       "         ISBN                                         Book-Title  \\\n",
       "0  0195153448                                Classical Mythology   \n",
       "1  0002005018                                       Clara Callan   \n",
       "2  0060973129                               Decision in Normandy   \n",
       "3  0374157065  Flu: The Story of the Great Influenza Pandemic...   \n",
       "4  0393045218                             The Mummies of Urumchi   \n",
       "\n",
       "            Book-Author Year-Of-Publication                   Publisher  \\\n",
       "0    Mark P. O. Morford                2002     Oxford University Press   \n",
       "1  Richard Bruce Wright                2001       HarperFlamingo Canada   \n",
       "2          Carlo D'Este                1991             HarperPerennial   \n",
       "3      Gina Bari Kolata                1999        Farrar Straus Giroux   \n",
       "4       E. J. W. Barber                1999  W. W. Norton &amp; Company   \n",
       "\n",
       "                                         Image-URL-S  \\\n",
       "0  http://images.amazon.com/images/P/0195153448.0...   \n",
       "1  http://images.amazon.com/images/P/0002005018.0...   \n",
       "2  http://images.amazon.com/images/P/0060973129.0...   \n",
       "3  http://images.amazon.com/images/P/0374157065.0...   \n",
       "4  http://images.amazon.com/images/P/0393045218.0...   \n",
       "\n",
       "                                         Image-URL-M  \\\n",
       "0  http://images.amazon.com/images/P/0195153448.0...   \n",
       "1  http://images.amazon.com/images/P/0002005018.0...   \n",
       "2  http://images.amazon.com/images/P/0060973129.0...   \n",
       "3  http://images.amazon.com/images/P/0374157065.0...   \n",
       "4  http://images.amazon.com/images/P/0393045218.0...   \n",
       "\n",
       "                                         Image-URL-L  \n",
       "0  http://images.amazon.com/images/P/0195153448.0...  \n",
       "1  http://images.amazon.com/images/P/0002005018.0...  \n",
       "2  http://images.amazon.com/images/P/0060973129.0...  \n",
       "3  http://images.amazon.com/images/P/0374157065.0...  \n",
       "4  http://images.amazon.com/images/P/0393045218.0...  "
      ]
     },
     "execution_count": 76,
     "metadata": {},
     "output_type": "execute_result"
    }
   ],
   "source": [
    "books.head()"
   ]
  },
  {
   "cell_type": "code",
   "execution_count": 3,
   "metadata": {},
   "outputs": [],
   "source": [
    "df = pd.read_csv(\"./data/_AllData.csv\")"
   ]
  },
  {
   "cell_type": "code",
   "execution_count": 4,
   "metadata": {},
   "outputs": [
    {
     "data": {
      "text/html": [
       "<div>\n",
       "<style scoped>\n",
       "    .dataframe tbody tr th:only-of-type {\n",
       "        vertical-align: middle;\n",
       "    }\n",
       "\n",
       "    .dataframe tbody tr th {\n",
       "        vertical-align: top;\n",
       "    }\n",
       "\n",
       "    .dataframe thead th {\n",
       "        text-align: right;\n",
       "    }\n",
       "</style>\n",
       "<table border=\"1\" class=\"dataframe\">\n",
       "  <thead>\n",
       "    <tr style=\"text-align: right;\">\n",
       "      <th></th>\n",
       "      <th>User-ID</th>\n",
       "      <th>ISBN</th>\n",
       "      <th>Book-Rating</th>\n",
       "      <th>Book-Title</th>\n",
       "      <th>Book-Author</th>\n",
       "      <th>Location</th>\n",
       "      <th>Age</th>\n",
       "    </tr>\n",
       "  </thead>\n",
       "  <tbody>\n",
       "    <tr>\n",
       "      <th>0</th>\n",
       "      <td>276725</td>\n",
       "      <td>034545104X</td>\n",
       "      <td>0</td>\n",
       "      <td>Flesh Tones: A Novel</td>\n",
       "      <td>M. J. Rose</td>\n",
       "      <td>tyler, texas, usa</td>\n",
       "      <td>-1.0</td>\n",
       "    </tr>\n",
       "    <tr>\n",
       "      <th>1</th>\n",
       "      <td>276726</td>\n",
       "      <td>0155061224</td>\n",
       "      <td>5</td>\n",
       "      <td>Rites of Passage</td>\n",
       "      <td>Judith Rae</td>\n",
       "      <td>seattle, washington, usa</td>\n",
       "      <td>-1.0</td>\n",
       "    </tr>\n",
       "    <tr>\n",
       "      <th>2</th>\n",
       "      <td>276727</td>\n",
       "      <td>0446520802</td>\n",
       "      <td>0</td>\n",
       "      <td>The Notebook</td>\n",
       "      <td>Nicholas Sparks</td>\n",
       "      <td>h, new south wales, australia</td>\n",
       "      <td>16.0</td>\n",
       "    </tr>\n",
       "    <tr>\n",
       "      <th>3</th>\n",
       "      <td>276729</td>\n",
       "      <td>052165615X</td>\n",
       "      <td>3</td>\n",
       "      <td>Help!: Level 1</td>\n",
       "      <td>Philip Prowse</td>\n",
       "      <td>rijeka, n/a, croatia</td>\n",
       "      <td>16.0</td>\n",
       "    </tr>\n",
       "    <tr>\n",
       "      <th>4</th>\n",
       "      <td>276729</td>\n",
       "      <td>0521795028</td>\n",
       "      <td>6</td>\n",
       "      <td>The Amsterdam Connection : Level 4 (Cambridge ...</td>\n",
       "      <td>Sue Leather</td>\n",
       "      <td>rijeka, n/a, croatia</td>\n",
       "      <td>16.0</td>\n",
       "    </tr>\n",
       "  </tbody>\n",
       "</table>\n",
       "</div>"
      ],
      "text/plain": [
       "   User-ID        ISBN  Book-Rating  \\\n",
       "0   276725  034545104X            0   \n",
       "1   276726  0155061224            5   \n",
       "2   276727  0446520802            0   \n",
       "3   276729  052165615X            3   \n",
       "4   276729  0521795028            6   \n",
       "\n",
       "                                          Book-Title      Book-Author  \\\n",
       "0                               Flesh Tones: A Novel       M. J. Rose   \n",
       "1                                   Rites of Passage       Judith Rae   \n",
       "2                                       The Notebook  Nicholas Sparks   \n",
       "3                                     Help!: Level 1    Philip Prowse   \n",
       "4  The Amsterdam Connection : Level 4 (Cambridge ...      Sue Leather   \n",
       "\n",
       "                        Location   Age  \n",
       "0              tyler, texas, usa  -1.0  \n",
       "1       seattle, washington, usa  -1.0  \n",
       "2  h, new south wales, australia  16.0  \n",
       "3           rijeka, n/a, croatia  16.0  \n",
       "4           rijeka, n/a, croatia  16.0  "
      ]
     },
     "execution_count": 4,
     "metadata": {},
     "output_type": "execute_result"
    }
   ],
   "source": [
    "df.head()"
   ]
  },
  {
   "cell_type": "code",
   "execution_count": 5,
   "metadata": {},
   "outputs": [
    {
     "data": {
      "text/plain": [
       "(1149780, 7)"
      ]
     },
     "execution_count": 5,
     "metadata": {},
     "output_type": "execute_result"
    }
   ],
   "source": [
    "df.shape"
   ]
  },
  {
   "cell_type": "code",
   "execution_count": 6,
   "metadata": {},
   "outputs": [],
   "source": [
    "# Sample ISBN preprocessing function\n",
    "def preprocess_isbn(isbn):\n",
    "    # Cast to string to ensure it's a string\n",
    "    isbn = str(isbn)\n",
    "    \n",
    "    # Handle ISBN-10 'X' character\n",
    "    if isbn and isbn[-1] == 'X':\n",
    "        isbn = isbn[:-1]\n",
    "    \n",
    "    # Remove non-numeric characters\n",
    "    isbn = ''.join(filter(str.isdigit, isbn)) \n",
    "    \n",
    "    # Check if the resulting ISBN is empty or invalid\n",
    "    if not isbn:\n",
    "        return None  # or any other suitable placeholder for missing ISBNs\n",
    "    try:\n",
    "        isbn = int(isbn)\n",
    "    except ValueError:\n",
    "        return None  # Handle cases where conversion to int fails\n",
    "    \n",
    "    return isbn\n",
    "\n",
    "# Apply the preprocessing function to your ISBN data\n",
    "df['ISBN'] = df['ISBN'].apply(preprocess_isbn)"
   ]
  },
  {
   "cell_type": "code",
   "execution_count": 7,
   "metadata": {},
   "outputs": [
    {
     "data": {
      "text/plain": [
       "User-ID          int64\n",
       "ISBN           float64\n",
       "Book-Rating      int64\n",
       "Book-Title      object\n",
       "Book-Author     object\n",
       "Location        object\n",
       "Age            float64\n",
       "dtype: object"
      ]
     },
     "execution_count": 7,
     "metadata": {},
     "output_type": "execute_result"
    }
   ],
   "source": [
    "df.dtypes"
   ]
  },
  {
   "cell_type": "code",
   "execution_count": 8,
   "metadata": {},
   "outputs": [
    {
     "data": {
      "text/plain": [
       "User-ID             0\n",
       "ISBN               58\n",
       "Book-Rating         0\n",
       "Book-Title     118644\n",
       "Book-Author    118645\n",
       "Location            0\n",
       "Age                 0\n",
       "dtype: int64"
      ]
     },
     "execution_count": 8,
     "metadata": {},
     "output_type": "execute_result"
    }
   ],
   "source": [
    "df.isna().sum()"
   ]
  },
  {
   "cell_type": "code",
   "execution_count": 9,
   "metadata": {},
   "outputs": [
    {
     "data": {
      "text/plain": [
       "(1149780, 7)"
      ]
     },
     "execution_count": 9,
     "metadata": {},
     "output_type": "execute_result"
    }
   ],
   "source": [
    "df.shape"
   ]
  },
  {
   "cell_type": "code",
   "execution_count": 10,
   "metadata": {},
   "outputs": [],
   "source": [
    "df = df[df['ISBN'] != 0]"
   ]
  },
  {
   "cell_type": "code",
   "execution_count": 11,
   "metadata": {},
   "outputs": [],
   "source": [
    "df.dropna(subset=['ISBN'], inplace = True)"
   ]
  },
  {
   "cell_type": "code",
   "execution_count": 12,
   "metadata": {},
   "outputs": [
    {
     "data": {
      "text/plain": [
       "User-ID             0\n",
       "ISBN                0\n",
       "Book-Rating         0\n",
       "Book-Title     118520\n",
       "Book-Author    118521\n",
       "Location            0\n",
       "Age                 0\n",
       "dtype: int64"
      ]
     },
     "execution_count": 12,
     "metadata": {},
     "output_type": "execute_result"
    }
   ],
   "source": [
    "df.isna().sum()"
   ]
  },
  {
   "cell_type": "code",
   "execution_count": 13,
   "metadata": {},
   "outputs": [
    {
     "data": {
      "text/plain": [
       "(1149651, 7)"
      ]
     },
     "execution_count": 13,
     "metadata": {},
     "output_type": "execute_result"
    }
   ],
   "source": [
    "df.shape"
   ]
  },
  {
   "cell_type": "code",
   "execution_count": 14,
   "metadata": {},
   "outputs": [
    {
     "data": {
      "text/plain": [
       "24"
      ]
     },
     "execution_count": 14,
     "metadata": {},
     "output_type": "execute_result"
    }
   ],
   "source": [
    "df.duplicated().sum()"
   ]
  },
  {
   "cell_type": "code",
   "execution_count": 15,
   "metadata": {},
   "outputs": [],
   "source": [
    "df = df.drop_duplicates()"
   ]
  },
  {
   "cell_type": "code",
   "execution_count": 16,
   "metadata": {},
   "outputs": [],
   "source": [
    "User_Rating_Count=pd.DataFrame(df['User-ID'].value_counts())\n",
    "User_Rating_Count.reset_index(inplace=True)"
   ]
  },
  {
   "cell_type": "code",
   "execution_count": 17,
   "metadata": {},
   "outputs": [
    {
     "data": {
      "text/html": [
       "<div>\n",
       "<style scoped>\n",
       "    .dataframe tbody tr th:only-of-type {\n",
       "        vertical-align: middle;\n",
       "    }\n",
       "\n",
       "    .dataframe tbody tr th {\n",
       "        vertical-align: top;\n",
       "    }\n",
       "\n",
       "    .dataframe thead th {\n",
       "        text-align: right;\n",
       "    }\n",
       "</style>\n",
       "<table border=\"1\" class=\"dataframe\">\n",
       "  <thead>\n",
       "    <tr style=\"text-align: right;\">\n",
       "      <th></th>\n",
       "      <th>User-ID</th>\n",
       "      <th>Count</th>\n",
       "    </tr>\n",
       "  </thead>\n",
       "  <tbody>\n",
       "    <tr>\n",
       "      <th>0</th>\n",
       "      <td>11676</td>\n",
       "      <td>13596</td>\n",
       "    </tr>\n",
       "    <tr>\n",
       "      <th>1</th>\n",
       "      <td>198711</td>\n",
       "      <td>7550</td>\n",
       "    </tr>\n",
       "    <tr>\n",
       "      <th>2</th>\n",
       "      <td>153662</td>\n",
       "      <td>6109</td>\n",
       "    </tr>\n",
       "    <tr>\n",
       "      <th>3</th>\n",
       "      <td>98391</td>\n",
       "      <td>5891</td>\n",
       "    </tr>\n",
       "    <tr>\n",
       "      <th>4</th>\n",
       "      <td>35859</td>\n",
       "      <td>5850</td>\n",
       "    </tr>\n",
       "    <tr>\n",
       "      <th>...</th>\n",
       "      <td>...</td>\n",
       "      <td>...</td>\n",
       "    </tr>\n",
       "    <tr>\n",
       "      <th>105261</th>\n",
       "      <td>116191</td>\n",
       "      <td>1</td>\n",
       "    </tr>\n",
       "    <tr>\n",
       "      <th>105262</th>\n",
       "      <td>116184</td>\n",
       "      <td>1</td>\n",
       "    </tr>\n",
       "    <tr>\n",
       "      <th>105263</th>\n",
       "      <td>116182</td>\n",
       "      <td>1</td>\n",
       "    </tr>\n",
       "    <tr>\n",
       "      <th>105264</th>\n",
       "      <td>116180</td>\n",
       "      <td>1</td>\n",
       "    </tr>\n",
       "    <tr>\n",
       "      <th>105265</th>\n",
       "      <td>276723</td>\n",
       "      <td>1</td>\n",
       "    </tr>\n",
       "  </tbody>\n",
       "</table>\n",
       "<p>105266 rows × 2 columns</p>\n",
       "</div>"
      ],
      "text/plain": [
       "        User-ID  Count\n",
       "0         11676  13596\n",
       "1        198711   7550\n",
       "2        153662   6109\n",
       "3         98391   5891\n",
       "4         35859   5850\n",
       "...         ...    ...\n",
       "105261   116191      1\n",
       "105262   116184      1\n",
       "105263   116182      1\n",
       "105264   116180      1\n",
       "105265   276723      1\n",
       "\n",
       "[105266 rows x 2 columns]"
      ]
     },
     "execution_count": 17,
     "metadata": {},
     "output_type": "execute_result"
    }
   ],
   "source": [
    "User_Rating_Count.rename(columns={'index':'User-ID','User-ID':'Count'},inplace=True)\n",
    "User_Rating_Count"
   ]
  },
  {
   "cell_type": "code",
   "execution_count": 18,
   "metadata": {},
   "outputs": [
    {
     "data": {
      "text/plain": [
       "User-ID\n",
       "2         False\n",
       "7         False\n",
       "8         False\n",
       "9         False\n",
       "10        False\n",
       "          ...  \n",
       "278846    False\n",
       "278849    False\n",
       "278851    False\n",
       "278852    False\n",
       "278854    False\n",
       "Name: Book-Rating, Length: 105266, dtype: bool"
      ]
     },
     "execution_count": 18,
     "metadata": {},
     "output_type": "execute_result"
    }
   ],
   "source": [
    "x = df.groupby('User-ID').count()['Book-Rating'] > 200\n",
    "x"
   ]
  },
  {
   "cell_type": "code",
   "execution_count": 19,
   "metadata": {},
   "outputs": [],
   "source": [
    "wellread_users = x[x].index"
   ]
  },
  {
   "cell_type": "code",
   "execution_count": 20,
   "metadata": {},
   "outputs": [
    {
     "data": {
      "text/plain": [
       "(899,)"
      ]
     },
     "execution_count": 20,
     "metadata": {},
     "output_type": "execute_result"
    }
   ],
   "source": [
    "wellread_users.shape"
   ]
  },
  {
   "cell_type": "code",
   "execution_count": 21,
   "metadata": {},
   "outputs": [],
   "source": [
    "# Group the data by 'Book-Title' and 'Book-Author' and calculate the most common ISBN for each group\n",
    "most_common_isbn = df.groupby(['Book-Title', 'Book-Author'])['ISBN'].agg(lambda x: x.mode().iloc[0] if not x.mode().empty else None).reset_index()\n",
    "\n",
    "# Merge the most common ISBN values back into the original DataFrame based on 'Book-Title' and 'Book-Author'\n",
    "df = df.merge(most_common_isbn, on=['Book-Title', 'Book-Author'], how='left', suffixes=('', '_most_common'))\n",
    "\n",
    "# Replace 'ISBN' with the most common ISBN values where available\n",
    "df['ISBN'] = df['ISBN_most_common'].fillna(df['ISBN'])\n",
    "\n",
    "# Drop the auxiliary 'ISBN_most_common' column if you no longer need it\n",
    "df = df.drop('ISBN_most_common', axis=1)"
   ]
  },
  {
   "cell_type": "code",
   "execution_count": 22,
   "metadata": {},
   "outputs": [
    {
     "data": {
      "text/html": [
       "<div>\n",
       "<style scoped>\n",
       "    .dataframe tbody tr th:only-of-type {\n",
       "        vertical-align: middle;\n",
       "    }\n",
       "\n",
       "    .dataframe tbody tr th {\n",
       "        vertical-align: top;\n",
       "    }\n",
       "\n",
       "    .dataframe thead th {\n",
       "        text-align: right;\n",
       "    }\n",
       "</style>\n",
       "<table border=\"1\" class=\"dataframe\">\n",
       "  <thead>\n",
       "    <tr style=\"text-align: right;\">\n",
       "      <th></th>\n",
       "      <th>User-ID</th>\n",
       "      <th>ISBN</th>\n",
       "      <th>Book-Rating</th>\n",
       "      <th>Book-Title</th>\n",
       "      <th>Book-Author</th>\n",
       "      <th>Location</th>\n",
       "      <th>Age</th>\n",
       "    </tr>\n",
       "  </thead>\n",
       "  <tbody>\n",
       "    <tr>\n",
       "      <th>1455</th>\n",
       "      <td>277427</td>\n",
       "      <td>2.542730e+06</td>\n",
       "      <td>10</td>\n",
       "      <td>Politically Correct Bedtime Stories: Modern Ta...</td>\n",
       "      <td>James Finn Garner</td>\n",
       "      <td>gilbert, arizona, usa</td>\n",
       "      <td>48.0</td>\n",
       "    </tr>\n",
       "    <tr>\n",
       "      <th>1456</th>\n",
       "      <td>277427</td>\n",
       "      <td>2.621746e+07</td>\n",
       "      <td>0</td>\n",
       "      <td>Vegetarian Times Complete Cookbook</td>\n",
       "      <td>Lucy  Moll</td>\n",
       "      <td>gilbert, arizona, usa</td>\n",
       "      <td>48.0</td>\n",
       "    </tr>\n",
       "    <tr>\n",
       "      <th>1457</th>\n",
       "      <td>277427</td>\n",
       "      <td>3.008685e+06</td>\n",
       "      <td>8</td>\n",
       "      <td>Pioneers</td>\n",
       "      <td>James Fenimore Cooper</td>\n",
       "      <td>gilbert, arizona, usa</td>\n",
       "      <td>48.0</td>\n",
       "    </tr>\n",
       "    <tr>\n",
       "      <th>1458</th>\n",
       "      <td>277427</td>\n",
       "      <td>3.061532e+07</td>\n",
       "      <td>0</td>\n",
       "      <td>Ask for May, Settle for June (A Doonesbury book)</td>\n",
       "      <td>G. B. Trudeau</td>\n",
       "      <td>gilbert, arizona, usa</td>\n",
       "      <td>48.0</td>\n",
       "    </tr>\n",
       "    <tr>\n",
       "      <th>1459</th>\n",
       "      <td>277427</td>\n",
       "      <td>6.000205e+07</td>\n",
       "      <td>0</td>\n",
       "      <td>On a Wicked Dawn (Cynster Novels)</td>\n",
       "      <td>Stephanie Laurens</td>\n",
       "      <td>gilbert, arizona, usa</td>\n",
       "      <td>48.0</td>\n",
       "    </tr>\n",
       "    <tr>\n",
       "      <th>...</th>\n",
       "      <td>...</td>\n",
       "      <td>...</td>\n",
       "      <td>...</td>\n",
       "      <td>...</td>\n",
       "      <td>...</td>\n",
       "      <td>...</td>\n",
       "      <td>...</td>\n",
       "    </tr>\n",
       "    <tr>\n",
       "      <th>1147459</th>\n",
       "      <td>275970</td>\n",
       "      <td>3.829022e+09</td>\n",
       "      <td>0</td>\n",
       "      <td>The Penis Book</td>\n",
       "      <td>Joseph Cohen</td>\n",
       "      <td>pittsburgh, pennsylvania, usa</td>\n",
       "      <td>46.0</td>\n",
       "    </tr>\n",
       "    <tr>\n",
       "      <th>1147460</th>\n",
       "      <td>275970</td>\n",
       "      <td>4.770020e+09</td>\n",
       "      <td>0</td>\n",
       "      <td>Musashi</td>\n",
       "      <td>Eiji Yoshikawa</td>\n",
       "      <td>pittsburgh, pennsylvania, usa</td>\n",
       "      <td>46.0</td>\n",
       "    </tr>\n",
       "    <tr>\n",
       "      <th>1147461</th>\n",
       "      <td>275970</td>\n",
       "      <td>8.960861e+08</td>\n",
       "      <td>0</td>\n",
       "      <td>NaN</td>\n",
       "      <td>NaN</td>\n",
       "      <td>pittsburgh, pennsylvania, usa</td>\n",
       "      <td>46.0</td>\n",
       "    </tr>\n",
       "    <tr>\n",
       "      <th>1147462</th>\n",
       "      <td>275970</td>\n",
       "      <td>9.626341e+09</td>\n",
       "      <td>8</td>\n",
       "      <td>Northanger Abbey (Classic Literature with Clas...</td>\n",
       "      <td>Jane Austen</td>\n",
       "      <td>pittsburgh, pennsylvania, usa</td>\n",
       "      <td>46.0</td>\n",
       "    </tr>\n",
       "    <tr>\n",
       "      <th>1147463</th>\n",
       "      <td>275970</td>\n",
       "      <td>9.626345e+09</td>\n",
       "      <td>0</td>\n",
       "      <td>NaN</td>\n",
       "      <td>NaN</td>\n",
       "      <td>pittsburgh, pennsylvania, usa</td>\n",
       "      <td>46.0</td>\n",
       "    </tr>\n",
       "  </tbody>\n",
       "</table>\n",
       "<p>526307 rows × 7 columns</p>\n",
       "</div>"
      ],
      "text/plain": [
       "         User-ID          ISBN  Book-Rating  \\\n",
       "1455      277427  2.542730e+06           10   \n",
       "1456      277427  2.621746e+07            0   \n",
       "1457      277427  3.008685e+06            8   \n",
       "1458      277427  3.061532e+07            0   \n",
       "1459      277427  6.000205e+07            0   \n",
       "...          ...           ...          ...   \n",
       "1147459   275970  3.829022e+09            0   \n",
       "1147460   275970  4.770020e+09            0   \n",
       "1147461   275970  8.960861e+08            0   \n",
       "1147462   275970  9.626341e+09            8   \n",
       "1147463   275970  9.626345e+09            0   \n",
       "\n",
       "                                                Book-Title  \\\n",
       "1455     Politically Correct Bedtime Stories: Modern Ta...   \n",
       "1456                    Vegetarian Times Complete Cookbook   \n",
       "1457                                              Pioneers   \n",
       "1458      Ask for May, Settle for June (A Doonesbury book)   \n",
       "1459                     On a Wicked Dawn (Cynster Novels)   \n",
       "...                                                    ...   \n",
       "1147459                                     The Penis Book   \n",
       "1147460                                            Musashi   \n",
       "1147461                                                NaN   \n",
       "1147462  Northanger Abbey (Classic Literature with Clas...   \n",
       "1147463                                                NaN   \n",
       "\n",
       "                   Book-Author                       Location   Age  \n",
       "1455         James Finn Garner          gilbert, arizona, usa  48.0  \n",
       "1456                Lucy  Moll          gilbert, arizona, usa  48.0  \n",
       "1457     James Fenimore Cooper          gilbert, arizona, usa  48.0  \n",
       "1458             G. B. Trudeau          gilbert, arizona, usa  48.0  \n",
       "1459         Stephanie Laurens          gilbert, arizona, usa  48.0  \n",
       "...                        ...                            ...   ...  \n",
       "1147459           Joseph Cohen  pittsburgh, pennsylvania, usa  46.0  \n",
       "1147460         Eiji Yoshikawa  pittsburgh, pennsylvania, usa  46.0  \n",
       "1147461                    NaN  pittsburgh, pennsylvania, usa  46.0  \n",
       "1147462            Jane Austen  pittsburgh, pennsylvania, usa  46.0  \n",
       "1147463                    NaN  pittsburgh, pennsylvania, usa  46.0  \n",
       "\n",
       "[526307 rows x 7 columns]"
      ]
     },
     "execution_count": 22,
     "metadata": {},
     "output_type": "execute_result"
    }
   ],
   "source": [
    "filtered_df = df[df['User-ID'].isin(wellread_users)]\n",
    "filtered_df"
   ]
  },
  {
   "cell_type": "code",
   "execution_count": 23,
   "metadata": {},
   "outputs": [
    {
     "data": {
      "text/plain": [
       "ISBN\n",
       "1.000000e+00    False\n",
       "2.000000e+00    False\n",
       "3.000000e+00    False\n",
       "4.000000e+00    False\n",
       "5.000000e+00     True\n",
       "                ...  \n",
       "9.788434e+12    False\n",
       "9.788475e+12    False\n",
       "9.788872e+12    False\n",
       "9.788878e+12    False\n",
       "9.789030e+12    False\n",
       "Name: Book-Rating, Length: 194931, dtype: bool"
      ]
     },
     "execution_count": 23,
     "metadata": {},
     "output_type": "execute_result"
    }
   ],
   "source": [
    "y = filtered_df.groupby('ISBN').count()['Book-Rating']>= 5\n",
    "y"
   ]
  },
  {
   "cell_type": "code",
   "execution_count": 24,
   "metadata": {},
   "outputs": [
    {
     "data": {
      "text/plain": [
       "Float64Index([         5.0,          6.0,          9.0,         50.0,\n",
       "                      52.0,         53.0,         57.0,         59.0,\n",
       "                  615929.0,     649840.0,\n",
       "              ...\n",
       "              8420482013.0, 8423310353.0, 8440627203.0, 8478884459.0,\n",
       "              8495273829.0, 8817125539.0, 8873122933.0, 9068340344.0,\n",
       "              9129622425.0, 9505156944.0],\n",
       "             dtype='float64', name='ISBN', length=20708)"
      ]
     },
     "execution_count": 24,
     "metadata": {},
     "output_type": "execute_result"
    }
   ],
   "source": [
    "famous_books = y[y].index\n",
    "famous_books"
   ]
  },
  {
   "cell_type": "code",
   "execution_count": 25,
   "metadata": {},
   "outputs": [
    {
     "data": {
      "text/html": [
       "<div>\n",
       "<style scoped>\n",
       "    .dataframe tbody tr th:only-of-type {\n",
       "        vertical-align: middle;\n",
       "    }\n",
       "\n",
       "    .dataframe tbody tr th {\n",
       "        vertical-align: top;\n",
       "    }\n",
       "\n",
       "    .dataframe thead th {\n",
       "        text-align: right;\n",
       "    }\n",
       "</style>\n",
       "<table border=\"1\" class=\"dataframe\">\n",
       "  <thead>\n",
       "    <tr style=\"text-align: right;\">\n",
       "      <th></th>\n",
       "      <th>User-ID</th>\n",
       "      <th>ISBN</th>\n",
       "      <th>Book-Rating</th>\n",
       "      <th>Book-Title</th>\n",
       "      <th>Book-Author</th>\n",
       "      <th>Location</th>\n",
       "      <th>Age</th>\n",
       "    </tr>\n",
       "  </thead>\n",
       "  <tbody>\n",
       "    <tr>\n",
       "      <th>1455</th>\n",
       "      <td>277427</td>\n",
       "      <td>2.542730e+06</td>\n",
       "      <td>10</td>\n",
       "      <td>Politically Correct Bedtime Stories: Modern Ta...</td>\n",
       "      <td>James Finn Garner</td>\n",
       "      <td>gilbert, arizona, usa</td>\n",
       "      <td>48.0</td>\n",
       "    </tr>\n",
       "    <tr>\n",
       "      <th>1456</th>\n",
       "      <td>277427</td>\n",
       "      <td>2.621746e+07</td>\n",
       "      <td>0</td>\n",
       "      <td>Vegetarian Times Complete Cookbook</td>\n",
       "      <td>Lucy  Moll</td>\n",
       "      <td>gilbert, arizona, usa</td>\n",
       "      <td>48.0</td>\n",
       "    </tr>\n",
       "    <tr>\n",
       "      <th>1459</th>\n",
       "      <td>277427</td>\n",
       "      <td>6.000205e+07</td>\n",
       "      <td>0</td>\n",
       "      <td>On a Wicked Dawn (Cynster Novels)</td>\n",
       "      <td>Stephanie Laurens</td>\n",
       "      <td>gilbert, arizona, usa</td>\n",
       "      <td>48.0</td>\n",
       "    </tr>\n",
       "    <tr>\n",
       "      <th>1462</th>\n",
       "      <td>277427</td>\n",
       "      <td>6.109261e+07</td>\n",
       "      <td>0</td>\n",
       "      <td>Finding Moon</td>\n",
       "      <td>Tony Hillerman</td>\n",
       "      <td>gilbert, arizona, usa</td>\n",
       "      <td>48.0</td>\n",
       "    </tr>\n",
       "    <tr>\n",
       "      <th>1463</th>\n",
       "      <td>277427</td>\n",
       "      <td>6.019270e+07</td>\n",
       "      <td>0</td>\n",
       "      <td>Beauty Fades, Dumb Is Forever: The Making of a...</td>\n",
       "      <td>Judy Sheindlin</td>\n",
       "      <td>gilbert, arizona, usa</td>\n",
       "      <td>48.0</td>\n",
       "    </tr>\n",
       "    <tr>\n",
       "      <th>...</th>\n",
       "      <td>...</td>\n",
       "      <td>...</td>\n",
       "      <td>...</td>\n",
       "      <td>...</td>\n",
       "      <td>...</td>\n",
       "      <td>...</td>\n",
       "      <td>...</td>\n",
       "    </tr>\n",
       "    <tr>\n",
       "      <th>1147417</th>\n",
       "      <td>275970</td>\n",
       "      <td>1.592865e+09</td>\n",
       "      <td>7</td>\n",
       "      <td>Saving the World in Your Spare Time</td>\n",
       "      <td>Laura Klotz</td>\n",
       "      <td>pittsburgh, pennsylvania, usa</td>\n",
       "      <td>46.0</td>\n",
       "    </tr>\n",
       "    <tr>\n",
       "      <th>1147418</th>\n",
       "      <td>275970</td>\n",
       "      <td>1.594480e+09</td>\n",
       "      <td>0</td>\n",
       "      <td>The Kite Runner</td>\n",
       "      <td>Khaled Hosseini</td>\n",
       "      <td>pittsburgh, pennsylvania, usa</td>\n",
       "      <td>46.0</td>\n",
       "    </tr>\n",
       "    <tr>\n",
       "      <th>1147431</th>\n",
       "      <td>275970</td>\n",
       "      <td>1.853260e+09</td>\n",
       "      <td>0</td>\n",
       "      <td>Wuthering Heights (Wordsworth Classics)</td>\n",
       "      <td>Emily Bronte</td>\n",
       "      <td>pittsburgh, pennsylvania, usa</td>\n",
       "      <td>46.0</td>\n",
       "    </tr>\n",
       "    <tr>\n",
       "      <th>1147439</th>\n",
       "      <td>275970</td>\n",
       "      <td>3.757038e+08</td>\n",
       "      <td>8</td>\n",
       "      <td>Silk</td>\n",
       "      <td>Alessandro Baricco</td>\n",
       "      <td>pittsburgh, pennsylvania, usa</td>\n",
       "      <td>46.0</td>\n",
       "    </tr>\n",
       "    <tr>\n",
       "      <th>1147454</th>\n",
       "      <td>275970</td>\n",
       "      <td>1.930722e+08</td>\n",
       "      <td>0</td>\n",
       "      <td>MoveOn's 50 Ways to Love Your Country: How to ...</td>\n",
       "      <td>Moveon</td>\n",
       "      <td>pittsburgh, pennsylvania, usa</td>\n",
       "      <td>46.0</td>\n",
       "    </tr>\n",
       "  </tbody>\n",
       "</table>\n",
       "<p>271086 rows × 7 columns</p>\n",
       "</div>"
      ],
      "text/plain": [
       "         User-ID          ISBN  Book-Rating  \\\n",
       "1455      277427  2.542730e+06           10   \n",
       "1456      277427  2.621746e+07            0   \n",
       "1459      277427  6.000205e+07            0   \n",
       "1462      277427  6.109261e+07            0   \n",
       "1463      277427  6.019270e+07            0   \n",
       "...          ...           ...          ...   \n",
       "1147417   275970  1.592865e+09            7   \n",
       "1147418   275970  1.594480e+09            0   \n",
       "1147431   275970  1.853260e+09            0   \n",
       "1147439   275970  3.757038e+08            8   \n",
       "1147454   275970  1.930722e+08            0   \n",
       "\n",
       "                                                Book-Title  \\\n",
       "1455     Politically Correct Bedtime Stories: Modern Ta...   \n",
       "1456                    Vegetarian Times Complete Cookbook   \n",
       "1459                     On a Wicked Dawn (Cynster Novels)   \n",
       "1462                                          Finding Moon   \n",
       "1463     Beauty Fades, Dumb Is Forever: The Making of a...   \n",
       "...                                                    ...   \n",
       "1147417                Saving the World in Your Spare Time   \n",
       "1147418                                    The Kite Runner   \n",
       "1147431            Wuthering Heights (Wordsworth Classics)   \n",
       "1147439                                               Silk   \n",
       "1147454  MoveOn's 50 Ways to Love Your Country: How to ...   \n",
       "\n",
       "                Book-Author                       Location   Age  \n",
       "1455      James Finn Garner          gilbert, arizona, usa  48.0  \n",
       "1456             Lucy  Moll          gilbert, arizona, usa  48.0  \n",
       "1459      Stephanie Laurens          gilbert, arizona, usa  48.0  \n",
       "1462         Tony Hillerman          gilbert, arizona, usa  48.0  \n",
       "1463         Judy Sheindlin          gilbert, arizona, usa  48.0  \n",
       "...                     ...                            ...   ...  \n",
       "1147417         Laura Klotz  pittsburgh, pennsylvania, usa  46.0  \n",
       "1147418     Khaled Hosseini  pittsburgh, pennsylvania, usa  46.0  \n",
       "1147431        Emily Bronte  pittsburgh, pennsylvania, usa  46.0  \n",
       "1147439  Alessandro Baricco  pittsburgh, pennsylvania, usa  46.0  \n",
       "1147454              Moveon  pittsburgh, pennsylvania, usa  46.0  \n",
       "\n",
       "[271086 rows x 7 columns]"
      ]
     },
     "execution_count": 25,
     "metadata": {},
     "output_type": "execute_result"
    }
   ],
   "source": [
    "filtered_df2 = filtered_df[filtered_df['ISBN'].isin(famous_books)]\n",
    "filtered_df2"
   ]
  },
  {
   "cell_type": "code",
   "execution_count": 26,
   "metadata": {},
   "outputs": [
    {
     "data": {
      "text/html": [
       "<div>\n",
       "<style scoped>\n",
       "    .dataframe tbody tr th:only-of-type {\n",
       "        vertical-align: middle;\n",
       "    }\n",
       "\n",
       "    .dataframe tbody tr th {\n",
       "        vertical-align: top;\n",
       "    }\n",
       "\n",
       "    .dataframe thead th {\n",
       "        text-align: right;\n",
       "    }\n",
       "</style>\n",
       "<table border=\"1\" class=\"dataframe\">\n",
       "  <thead>\n",
       "    <tr style=\"text-align: right;\">\n",
       "      <th></th>\n",
       "      <th>User-ID</th>\n",
       "      <th>ISBN</th>\n",
       "      <th>Book-Rating</th>\n",
       "      <th>Book-Title</th>\n",
       "      <th>Book-Author</th>\n",
       "      <th>Location</th>\n",
       "      <th>Age</th>\n",
       "    </tr>\n",
       "  </thead>\n",
       "  <tbody>\n",
       "    <tr>\n",
       "      <th>0</th>\n",
       "      <td>277427</td>\n",
       "      <td>2.542730e+06</td>\n",
       "      <td>10</td>\n",
       "      <td>Politically Correct Bedtime Stories: Modern Ta...</td>\n",
       "      <td>James Finn Garner</td>\n",
       "      <td>gilbert, arizona, usa</td>\n",
       "      <td>48.0</td>\n",
       "    </tr>\n",
       "    <tr>\n",
       "      <th>1</th>\n",
       "      <td>277427</td>\n",
       "      <td>2.621746e+07</td>\n",
       "      <td>0</td>\n",
       "      <td>Vegetarian Times Complete Cookbook</td>\n",
       "      <td>Lucy  Moll</td>\n",
       "      <td>gilbert, arizona, usa</td>\n",
       "      <td>48.0</td>\n",
       "    </tr>\n",
       "    <tr>\n",
       "      <th>2</th>\n",
       "      <td>277427</td>\n",
       "      <td>6.000205e+07</td>\n",
       "      <td>0</td>\n",
       "      <td>On a Wicked Dawn (Cynster Novels)</td>\n",
       "      <td>Stephanie Laurens</td>\n",
       "      <td>gilbert, arizona, usa</td>\n",
       "      <td>48.0</td>\n",
       "    </tr>\n",
       "    <tr>\n",
       "      <th>3</th>\n",
       "      <td>277427</td>\n",
       "      <td>6.109261e+07</td>\n",
       "      <td>0</td>\n",
       "      <td>Finding Moon</td>\n",
       "      <td>Tony Hillerman</td>\n",
       "      <td>gilbert, arizona, usa</td>\n",
       "      <td>48.0</td>\n",
       "    </tr>\n",
       "    <tr>\n",
       "      <th>4</th>\n",
       "      <td>277427</td>\n",
       "      <td>6.019270e+07</td>\n",
       "      <td>0</td>\n",
       "      <td>Beauty Fades, Dumb Is Forever: The Making of a...</td>\n",
       "      <td>Judy Sheindlin</td>\n",
       "      <td>gilbert, arizona, usa</td>\n",
       "      <td>48.0</td>\n",
       "    </tr>\n",
       "    <tr>\n",
       "      <th>...</th>\n",
       "      <td>...</td>\n",
       "      <td>...</td>\n",
       "      <td>...</td>\n",
       "      <td>...</td>\n",
       "      <td>...</td>\n",
       "      <td>...</td>\n",
       "      <td>...</td>\n",
       "    </tr>\n",
       "    <tr>\n",
       "      <th>271081</th>\n",
       "      <td>275970</td>\n",
       "      <td>1.592865e+09</td>\n",
       "      <td>7</td>\n",
       "      <td>Saving the World in Your Spare Time</td>\n",
       "      <td>Laura Klotz</td>\n",
       "      <td>pittsburgh, pennsylvania, usa</td>\n",
       "      <td>46.0</td>\n",
       "    </tr>\n",
       "    <tr>\n",
       "      <th>271082</th>\n",
       "      <td>275970</td>\n",
       "      <td>1.594480e+09</td>\n",
       "      <td>0</td>\n",
       "      <td>The Kite Runner</td>\n",
       "      <td>Khaled Hosseini</td>\n",
       "      <td>pittsburgh, pennsylvania, usa</td>\n",
       "      <td>46.0</td>\n",
       "    </tr>\n",
       "    <tr>\n",
       "      <th>271083</th>\n",
       "      <td>275970</td>\n",
       "      <td>1.853260e+09</td>\n",
       "      <td>0</td>\n",
       "      <td>Wuthering Heights (Wordsworth Classics)</td>\n",
       "      <td>Emily Bronte</td>\n",
       "      <td>pittsburgh, pennsylvania, usa</td>\n",
       "      <td>46.0</td>\n",
       "    </tr>\n",
       "    <tr>\n",
       "      <th>271084</th>\n",
       "      <td>275970</td>\n",
       "      <td>3.757038e+08</td>\n",
       "      <td>8</td>\n",
       "      <td>Silk</td>\n",
       "      <td>Alessandro Baricco</td>\n",
       "      <td>pittsburgh, pennsylvania, usa</td>\n",
       "      <td>46.0</td>\n",
       "    </tr>\n",
       "    <tr>\n",
       "      <th>271085</th>\n",
       "      <td>275970</td>\n",
       "      <td>1.930722e+08</td>\n",
       "      <td>0</td>\n",
       "      <td>MoveOn's 50 Ways to Love Your Country: How to ...</td>\n",
       "      <td>Moveon</td>\n",
       "      <td>pittsburgh, pennsylvania, usa</td>\n",
       "      <td>46.0</td>\n",
       "    </tr>\n",
       "  </tbody>\n",
       "</table>\n",
       "<p>271086 rows × 7 columns</p>\n",
       "</div>"
      ],
      "text/plain": [
       "        User-ID          ISBN  Book-Rating  \\\n",
       "0        277427  2.542730e+06           10   \n",
       "1        277427  2.621746e+07            0   \n",
       "2        277427  6.000205e+07            0   \n",
       "3        277427  6.109261e+07            0   \n",
       "4        277427  6.019270e+07            0   \n",
       "...         ...           ...          ...   \n",
       "271081   275970  1.592865e+09            7   \n",
       "271082   275970  1.594480e+09            0   \n",
       "271083   275970  1.853260e+09            0   \n",
       "271084   275970  3.757038e+08            8   \n",
       "271085   275970  1.930722e+08            0   \n",
       "\n",
       "                                               Book-Title         Book-Author  \\\n",
       "0       Politically Correct Bedtime Stories: Modern Ta...   James Finn Garner   \n",
       "1                      Vegetarian Times Complete Cookbook          Lucy  Moll   \n",
       "2                       On a Wicked Dawn (Cynster Novels)   Stephanie Laurens   \n",
       "3                                            Finding Moon      Tony Hillerman   \n",
       "4       Beauty Fades, Dumb Is Forever: The Making of a...      Judy Sheindlin   \n",
       "...                                                   ...                 ...   \n",
       "271081                Saving the World in Your Spare Time         Laura Klotz   \n",
       "271082                                    The Kite Runner     Khaled Hosseini   \n",
       "271083            Wuthering Heights (Wordsworth Classics)        Emily Bronte   \n",
       "271084                                               Silk  Alessandro Baricco   \n",
       "271085  MoveOn's 50 Ways to Love Your Country: How to ...              Moveon   \n",
       "\n",
       "                             Location   Age  \n",
       "0               gilbert, arizona, usa  48.0  \n",
       "1               gilbert, arizona, usa  48.0  \n",
       "2               gilbert, arizona, usa  48.0  \n",
       "3               gilbert, arizona, usa  48.0  \n",
       "4               gilbert, arizona, usa  48.0  \n",
       "...                               ...   ...  \n",
       "271081  pittsburgh, pennsylvania, usa  46.0  \n",
       "271082  pittsburgh, pennsylvania, usa  46.0  \n",
       "271083  pittsburgh, pennsylvania, usa  46.0  \n",
       "271084  pittsburgh, pennsylvania, usa  46.0  \n",
       "271085  pittsburgh, pennsylvania, usa  46.0  \n",
       "\n",
       "[271086 rows x 7 columns]"
      ]
     },
     "execution_count": 26,
     "metadata": {},
     "output_type": "execute_result"
    }
   ],
   "source": [
    "filtered_df2 = filtered_df2.reset_index(drop=True)\n",
    "filtered_df2"
   ]
  },
  {
   "cell_type": "code",
   "execution_count": 27,
   "metadata": {},
   "outputs": [
    {
     "data": {
      "text/plain": [
       "897"
      ]
     },
     "execution_count": 27,
     "metadata": {},
     "output_type": "execute_result"
    }
   ],
   "source": [
    "n_users = len(filtered_df2['User-ID'].unique())\n",
    "n_users"
   ]
  },
  {
   "cell_type": "code",
   "execution_count": 28,
   "metadata": {},
   "outputs": [
    {
     "data": {
      "text/plain": [
       "20708"
      ]
     },
     "execution_count": 28,
     "metadata": {},
     "output_type": "execute_result"
    }
   ],
   "source": [
    "n_books = len(filtered_df2.ISBN.unique())\n",
    "n_books"
   ]
  },
  {
   "cell_type": "code",
   "execution_count": 29,
   "metadata": {},
   "outputs": [],
   "source": [
    "unique_user_ids = filtered_df2['User-ID'].unique()\n",
    "user_id_mapping = {user_id: f'{i+1}' for i, user_id in enumerate(unique_user_ids)}\n",
    "\n",
    "# Create a mapping for 'ISBN' to 'new_book_id' starting from 1\n",
    "unique_isbns = filtered_df2['ISBN'].unique()\n",
    "isbn_mapping = {isbn: f'{i+1}' for i, isbn in enumerate(unique_isbns)}\n",
    "\n",
    "# Apply the mappings to create new columns\n",
    "filtered_df2['new_user_id'] = filtered_df2['User-ID'].map(user_id_mapping)\n",
    "filtered_df2['new_book_id'] = filtered_df2['ISBN'].map(isbn_mapping)"
   ]
  },
  {
   "cell_type": "code",
   "execution_count": 30,
   "metadata": {},
   "outputs": [
    {
     "data": {
      "text/html": [
       "<div>\n",
       "<style scoped>\n",
       "    .dataframe tbody tr th:only-of-type {\n",
       "        vertical-align: middle;\n",
       "    }\n",
       "\n",
       "    .dataframe tbody tr th {\n",
       "        vertical-align: top;\n",
       "    }\n",
       "\n",
       "    .dataframe thead th {\n",
       "        text-align: right;\n",
       "    }\n",
       "</style>\n",
       "<table border=\"1\" class=\"dataframe\">\n",
       "  <thead>\n",
       "    <tr style=\"text-align: right;\">\n",
       "      <th></th>\n",
       "      <th>User-ID</th>\n",
       "      <th>ISBN</th>\n",
       "      <th>Book-Rating</th>\n",
       "      <th>Book-Title</th>\n",
       "      <th>Book-Author</th>\n",
       "      <th>Location</th>\n",
       "      <th>Age</th>\n",
       "      <th>new_user_id</th>\n",
       "      <th>new_book_id</th>\n",
       "    </tr>\n",
       "  </thead>\n",
       "  <tbody>\n",
       "    <tr>\n",
       "      <th>0</th>\n",
       "      <td>277427</td>\n",
       "      <td>2.542730e+06</td>\n",
       "      <td>10</td>\n",
       "      <td>Politically Correct Bedtime Stories: Modern Ta...</td>\n",
       "      <td>James Finn Garner</td>\n",
       "      <td>gilbert, arizona, usa</td>\n",
       "      <td>48.0</td>\n",
       "      <td>1</td>\n",
       "      <td>1</td>\n",
       "    </tr>\n",
       "    <tr>\n",
       "      <th>1</th>\n",
       "      <td>277427</td>\n",
       "      <td>2.621746e+07</td>\n",
       "      <td>0</td>\n",
       "      <td>Vegetarian Times Complete Cookbook</td>\n",
       "      <td>Lucy  Moll</td>\n",
       "      <td>gilbert, arizona, usa</td>\n",
       "      <td>48.0</td>\n",
       "      <td>1</td>\n",
       "      <td>2</td>\n",
       "    </tr>\n",
       "    <tr>\n",
       "      <th>2</th>\n",
       "      <td>277427</td>\n",
       "      <td>6.000205e+07</td>\n",
       "      <td>0</td>\n",
       "      <td>On a Wicked Dawn (Cynster Novels)</td>\n",
       "      <td>Stephanie Laurens</td>\n",
       "      <td>gilbert, arizona, usa</td>\n",
       "      <td>48.0</td>\n",
       "      <td>1</td>\n",
       "      <td>3</td>\n",
       "    </tr>\n",
       "    <tr>\n",
       "      <th>3</th>\n",
       "      <td>277427</td>\n",
       "      <td>6.109261e+07</td>\n",
       "      <td>0</td>\n",
       "      <td>Finding Moon</td>\n",
       "      <td>Tony Hillerman</td>\n",
       "      <td>gilbert, arizona, usa</td>\n",
       "      <td>48.0</td>\n",
       "      <td>1</td>\n",
       "      <td>4</td>\n",
       "    </tr>\n",
       "    <tr>\n",
       "      <th>4</th>\n",
       "      <td>277427</td>\n",
       "      <td>6.019270e+07</td>\n",
       "      <td>0</td>\n",
       "      <td>Beauty Fades, Dumb Is Forever: The Making of a...</td>\n",
       "      <td>Judy Sheindlin</td>\n",
       "      <td>gilbert, arizona, usa</td>\n",
       "      <td>48.0</td>\n",
       "      <td>1</td>\n",
       "      <td>5</td>\n",
       "    </tr>\n",
       "    <tr>\n",
       "      <th>...</th>\n",
       "      <td>...</td>\n",
       "      <td>...</td>\n",
       "      <td>...</td>\n",
       "      <td>...</td>\n",
       "      <td>...</td>\n",
       "      <td>...</td>\n",
       "      <td>...</td>\n",
       "      <td>...</td>\n",
       "      <td>...</td>\n",
       "    </tr>\n",
       "    <tr>\n",
       "      <th>271081</th>\n",
       "      <td>275970</td>\n",
       "      <td>1.592865e+09</td>\n",
       "      <td>7</td>\n",
       "      <td>Saving the World in Your Spare Time</td>\n",
       "      <td>Laura Klotz</td>\n",
       "      <td>pittsburgh, pennsylvania, usa</td>\n",
       "      <td>46.0</td>\n",
       "      <td>897</td>\n",
       "      <td>19144</td>\n",
       "    </tr>\n",
       "    <tr>\n",
       "      <th>271082</th>\n",
       "      <td>275970</td>\n",
       "      <td>1.594480e+09</td>\n",
       "      <td>0</td>\n",
       "      <td>The Kite Runner</td>\n",
       "      <td>Khaled Hosseini</td>\n",
       "      <td>pittsburgh, pennsylvania, usa</td>\n",
       "      <td>46.0</td>\n",
       "      <td>897</td>\n",
       "      <td>20185</td>\n",
       "    </tr>\n",
       "    <tr>\n",
       "      <th>271083</th>\n",
       "      <td>275970</td>\n",
       "      <td>1.853260e+09</td>\n",
       "      <td>0</td>\n",
       "      <td>Wuthering Heights (Wordsworth Classics)</td>\n",
       "      <td>Emily Bronte</td>\n",
       "      <td>pittsburgh, pennsylvania, usa</td>\n",
       "      <td>46.0</td>\n",
       "      <td>897</td>\n",
       "      <td>16108</td>\n",
       "    </tr>\n",
       "    <tr>\n",
       "      <th>271084</th>\n",
       "      <td>275970</td>\n",
       "      <td>3.757038e+08</td>\n",
       "      <td>8</td>\n",
       "      <td>Silk</td>\n",
       "      <td>Alessandro Baricco</td>\n",
       "      <td>pittsburgh, pennsylvania, usa</td>\n",
       "      <td>46.0</td>\n",
       "      <td>897</td>\n",
       "      <td>5780</td>\n",
       "    </tr>\n",
       "    <tr>\n",
       "      <th>271085</th>\n",
       "      <td>275970</td>\n",
       "      <td>1.930722e+08</td>\n",
       "      <td>0</td>\n",
       "      <td>MoveOn's 50 Ways to Love Your Country: How to ...</td>\n",
       "      <td>Moveon</td>\n",
       "      <td>pittsburgh, pennsylvania, usa</td>\n",
       "      <td>46.0</td>\n",
       "      <td>897</td>\n",
       "      <td>18864</td>\n",
       "    </tr>\n",
       "  </tbody>\n",
       "</table>\n",
       "<p>271086 rows × 9 columns</p>\n",
       "</div>"
      ],
      "text/plain": [
       "        User-ID          ISBN  Book-Rating  \\\n",
       "0        277427  2.542730e+06           10   \n",
       "1        277427  2.621746e+07            0   \n",
       "2        277427  6.000205e+07            0   \n",
       "3        277427  6.109261e+07            0   \n",
       "4        277427  6.019270e+07            0   \n",
       "...         ...           ...          ...   \n",
       "271081   275970  1.592865e+09            7   \n",
       "271082   275970  1.594480e+09            0   \n",
       "271083   275970  1.853260e+09            0   \n",
       "271084   275970  3.757038e+08            8   \n",
       "271085   275970  1.930722e+08            0   \n",
       "\n",
       "                                               Book-Title         Book-Author  \\\n",
       "0       Politically Correct Bedtime Stories: Modern Ta...   James Finn Garner   \n",
       "1                      Vegetarian Times Complete Cookbook          Lucy  Moll   \n",
       "2                       On a Wicked Dawn (Cynster Novels)   Stephanie Laurens   \n",
       "3                                            Finding Moon      Tony Hillerman   \n",
       "4       Beauty Fades, Dumb Is Forever: The Making of a...      Judy Sheindlin   \n",
       "...                                                   ...                 ...   \n",
       "271081                Saving the World in Your Spare Time         Laura Klotz   \n",
       "271082                                    The Kite Runner     Khaled Hosseini   \n",
       "271083            Wuthering Heights (Wordsworth Classics)        Emily Bronte   \n",
       "271084                                               Silk  Alessandro Baricco   \n",
       "271085  MoveOn's 50 Ways to Love Your Country: How to ...              Moveon   \n",
       "\n",
       "                             Location   Age new_user_id new_book_id  \n",
       "0               gilbert, arizona, usa  48.0           1           1  \n",
       "1               gilbert, arizona, usa  48.0           1           2  \n",
       "2               gilbert, arizona, usa  48.0           1           3  \n",
       "3               gilbert, arizona, usa  48.0           1           4  \n",
       "4               gilbert, arizona, usa  48.0           1           5  \n",
       "...                               ...   ...         ...         ...  \n",
       "271081  pittsburgh, pennsylvania, usa  46.0         897       19144  \n",
       "271082  pittsburgh, pennsylvania, usa  46.0         897       20185  \n",
       "271083  pittsburgh, pennsylvania, usa  46.0         897       16108  \n",
       "271084  pittsburgh, pennsylvania, usa  46.0         897        5780  \n",
       "271085  pittsburgh, pennsylvania, usa  46.0         897       18864  \n",
       "\n",
       "[271086 rows x 9 columns]"
      ]
     },
     "execution_count": 30,
     "metadata": {},
     "output_type": "execute_result"
    }
   ],
   "source": [
    "filtered_df2"
   ]
  },
  {
   "cell_type": "code",
   "execution_count": 31,
   "metadata": {},
   "outputs": [],
   "source": [
    "filtered_df2['new_user_id'] = filtered_df2['new_user_id'].astype(int)\n",
    "filtered_df2['new_book_id'] = filtered_df2['new_book_id'].astype(int)"
   ]
  },
  {
   "cell_type": "code",
   "execution_count": 32,
   "metadata": {},
   "outputs": [
    {
     "data": {
      "text/plain": [
       "(271086, 9)"
      ]
     },
     "execution_count": 32,
     "metadata": {},
     "output_type": "execute_result"
    }
   ],
   "source": [
    "filtered_df2.shape"
   ]
  },
  {
   "cell_type": "code",
   "execution_count": 54,
   "metadata": {},
   "outputs": [
    {
     "data": {
      "text/plain": [
       "User-ID           0\n",
       "ISBN              0\n",
       "Book-Rating       0\n",
       "Book-Title     4192\n",
       "Book-Author    4192\n",
       "Location          0\n",
       "Age               0\n",
       "new_user_id       0\n",
       "new_book_id       0\n",
       "dtype: int64"
      ]
     },
     "execution_count": 54,
     "metadata": {},
     "output_type": "execute_result"
    }
   ],
   "source": [
    "filtered_df2.isna().sum()"
   ]
  },
  {
   "cell_type": "code",
   "execution_count": 55,
   "metadata": {},
   "outputs": [
    {
     "data": {
      "text/html": [
       "<div>\n",
       "<style scoped>\n",
       "    .dataframe tbody tr th:only-of-type {\n",
       "        vertical-align: middle;\n",
       "    }\n",
       "\n",
       "    .dataframe tbody tr th {\n",
       "        vertical-align: top;\n",
       "    }\n",
       "\n",
       "    .dataframe thead th {\n",
       "        text-align: right;\n",
       "    }\n",
       "</style>\n",
       "<table border=\"1\" class=\"dataframe\">\n",
       "  <thead>\n",
       "    <tr style=\"text-align: right;\">\n",
       "      <th></th>\n",
       "      <th>ISBN</th>\n",
       "      <th>avg_rating</th>\n",
       "    </tr>\n",
       "  </thead>\n",
       "  <tbody>\n",
       "    <tr>\n",
       "      <th>0</th>\n",
       "      <td>5.000000e+00</td>\n",
       "      <td>1.916667</td>\n",
       "    </tr>\n",
       "    <tr>\n",
       "      <th>1</th>\n",
       "      <td>6.000000e+00</td>\n",
       "      <td>5.000000</td>\n",
       "    </tr>\n",
       "    <tr>\n",
       "      <th>2</th>\n",
       "      <td>9.000000e+00</td>\n",
       "      <td>4.000000</td>\n",
       "    </tr>\n",
       "    <tr>\n",
       "      <th>3</th>\n",
       "      <td>5.000000e+01</td>\n",
       "      <td>2.000000</td>\n",
       "    </tr>\n",
       "    <tr>\n",
       "      <th>4</th>\n",
       "      <td>5.200000e+01</td>\n",
       "      <td>4.857143</td>\n",
       "    </tr>\n",
       "    <tr>\n",
       "      <th>...</th>\n",
       "      <td>...</td>\n",
       "      <td>...</td>\n",
       "    </tr>\n",
       "    <tr>\n",
       "      <th>20703</th>\n",
       "      <td>8.817126e+09</td>\n",
       "      <td>0.777778</td>\n",
       "    </tr>\n",
       "    <tr>\n",
       "      <th>20704</th>\n",
       "      <td>8.873123e+09</td>\n",
       "      <td>0.000000</td>\n",
       "    </tr>\n",
       "    <tr>\n",
       "      <th>20705</th>\n",
       "      <td>9.068340e+09</td>\n",
       "      <td>3.600000</td>\n",
       "    </tr>\n",
       "    <tr>\n",
       "      <th>20706</th>\n",
       "      <td>9.129622e+09</td>\n",
       "      <td>4.571429</td>\n",
       "    </tr>\n",
       "    <tr>\n",
       "      <th>20707</th>\n",
       "      <td>9.505157e+09</td>\n",
       "      <td>5.800000</td>\n",
       "    </tr>\n",
       "  </tbody>\n",
       "</table>\n",
       "<p>20708 rows × 2 columns</p>\n",
       "</div>"
      ],
      "text/plain": [
       "               ISBN  avg_rating\n",
       "0      5.000000e+00    1.916667\n",
       "1      6.000000e+00    5.000000\n",
       "2      9.000000e+00    4.000000\n",
       "3      5.000000e+01    2.000000\n",
       "4      5.200000e+01    4.857143\n",
       "...             ...         ...\n",
       "20703  8.817126e+09    0.777778\n",
       "20704  8.873123e+09    0.000000\n",
       "20705  9.068340e+09    3.600000\n",
       "20706  9.129622e+09    4.571429\n",
       "20707  9.505157e+09    5.800000\n",
       "\n",
       "[20708 rows x 2 columns]"
      ]
     },
     "execution_count": 55,
     "metadata": {},
     "output_type": "execute_result"
    }
   ],
   "source": [
    "avg_rating_df = filtered_df2.groupby('ISBN')['Book-Rating'].mean().reset_index()\n",
    "avg_rating_df.rename(columns={'Book-Rating':'avg_rating'},inplace=True)\n",
    "avg_rating_df"
   ]
  },
  {
   "cell_type": "markdown",
   "metadata": {},
   "source": [
    "## Modelo 1"
   ]
  },
  {
   "cell_type": "code",
   "execution_count": 35,
   "metadata": {},
   "outputs": [],
   "source": [
    "from sklearn.model_selection import train_test_split\n",
    "train, test = train_test_split(filtered_df2, test_size=0.2, random_state=777)"
   ]
  },
  {
   "cell_type": "code",
   "execution_count": 36,
   "metadata": {},
   "outputs": [],
   "source": [
    "embedding_dim = 32"
   ]
  },
  {
   "cell_type": "code",
   "execution_count": 37,
   "metadata": {},
   "outputs": [],
   "source": [
    "from keras.layers import Concatenate\n",
    "\n",
    "# creating book embedding path\n",
    "book_input = Input(shape=[1], name=\"Book-Input\")\n",
    "book_embedding = Embedding(n_books+1, 5, name=\"Book-Embedding\")(book_input)\n",
    "book_vec = Flatten(name=\"Flatten-Books\")(book_embedding)\n",
    "\n",
    "# creating user embedding path\n",
    "user_input = Input(shape=[1], name=\"User-Input\")\n",
    "user_embedding = Embedding(n_users+1, 5, name=\"User-Embedding\")(user_input)\n",
    "user_vec = Flatten(name=\"Flatten-Users\")(user_embedding)\n",
    "\n",
    "# concatenate features\n",
    "conc = Concatenate()([book_vec, user_vec])\n",
    "\n",
    "# add fully-connected-layers\n",
    "fc1 = Dense(128, activation='relu')(conc)\n",
    "fc2 = Dense(32, activation='relu')(fc1)\n",
    "out = Dense(1)(fc2)\n",
    "\n",
    "# Create model and compile it\n",
    "model1 = Model([user_input, book_input], out)\n",
    "model1.compile('adam', 'mean_squared_error')"
   ]
  },
  {
   "cell_type": "code",
   "execution_count": 48,
   "metadata": {},
   "outputs": [
    {
     "name": "stdout",
     "output_type": "stream",
     "text": [
      "Model: \"model_1\"\n",
      "__________________________________________________________________________________________________\n",
      " Layer (type)                Output Shape                 Param #   Connected to                  \n",
      "==================================================================================================\n",
      " Book-Input (InputLayer)     [(None, 1)]                  0         []                            \n",
      "                                                                                                  \n",
      " User-Input (InputLayer)     [(None, 1)]                  0         []                            \n",
      "                                                                                                  \n",
      " Book-Embedding (Embedding)  (None, 1, 5)                 103545    ['Book-Input[0][0]']          \n",
      "                                                                                                  \n",
      " User-Embedding (Embedding)  (None, 1, 5)                 4490      ['User-Input[0][0]']          \n",
      "                                                                                                  \n",
      " Flatten-Books (Flatten)     (None, 5)                    0         ['Book-Embedding[0][0]']      \n",
      "                                                                                                  \n",
      " Flatten-Users (Flatten)     (None, 5)                    0         ['User-Embedding[0][0]']      \n",
      "                                                                                                  \n",
      " concatenate_1 (Concatenate  (None, 10)                   0         ['Flatten-Books[0][0]',       \n",
      " )                                                                   'Flatten-Users[0][0]']       \n",
      "                                                                                                  \n",
      " dense_3 (Dense)             (None, 128)                  1408      ['concatenate_1[0][0]']       \n",
      "                                                                                                  \n",
      " dense_4 (Dense)             (None, 32)                   4128      ['dense_3[0][0]']             \n",
      "                                                                                                  \n",
      " dense_5 (Dense)             (None, 1)                    33        ['dense_4[0][0]']             \n",
      "                                                                                                  \n",
      "==================================================================================================\n",
      "Total params: 113604 (443.77 KB)\n",
      "Trainable params: 113604 (443.77 KB)\n",
      "Non-trainable params: 0 (0.00 Byte)\n",
      "__________________________________________________________________________________________________\n"
     ]
    }
   ],
   "source": [
    "model1.summary()"
   ]
  },
  {
   "cell_type": "code",
   "execution_count": 38,
   "metadata": {},
   "outputs": [
    {
     "name": "stderr",
     "output_type": "stream",
     "text": [
      "C:\\Users\\Administrador\\AppData\\Local\\Programs\\Python\\Python311\\Lib\\site-packages\\keras\\src\\engine\\data_adapter.py:1798: FutureWarning: The behavior of `series[i:j]` with an integer-dtype index is deprecated. In a future version, this will be treated as *label-based* indexing, consistent with e.g. `series[i]` lookups. To retain the old behavior, use `series.iloc[i:j]`. To get the future behavior, use `series.loc[i:j]`.\n",
      "  return t[start:end]\n"
     ]
    },
    {
     "name": "stdout",
     "output_type": "stream",
     "text": [
      "Epoch 1/20\n",
      "694/694 [==============================] - 3s 3ms/step - loss: 10.1047 - val_loss: 9.5074\n",
      "Epoch 2/20\n",
      "694/694 [==============================] - 2s 2ms/step - loss: 9.0335 - val_loss: 9.6166\n",
      "Epoch 3/20\n",
      "694/694 [==============================] - 2s 2ms/step - loss: 8.5291 - val_loss: 9.8812\n",
      "Epoch 4/20\n",
      "694/694 [==============================] - 2s 2ms/step - loss: 8.1563 - val_loss: 10.1270\n",
      "Epoch 5/20\n",
      "694/694 [==============================] - 2s 3ms/step - loss: 7.8271 - val_loss: 10.5213\n",
      "Epoch 6/20\n",
      "694/694 [==============================] - 2s 3ms/step - loss: 7.5475 - val_loss: 10.7051\n",
      "Epoch 7/20\n",
      "694/694 [==============================] - 2s 3ms/step - loss: 7.3016 - val_loss: 11.0850\n",
      "Epoch 8/20\n",
      "694/694 [==============================] - 2s 3ms/step - loss: 7.0558 - val_loss: 11.1959\n",
      "Epoch 9/20\n",
      "694/694 [==============================] - 2s 2ms/step - loss: 6.7962 - val_loss: 11.2950\n",
      "Epoch 10/20\n",
      "694/694 [==============================] - 2s 2ms/step - loss: 6.5305 - val_loss: 11.4747\n",
      "Epoch 11/20\n",
      "694/694 [==============================] - 2s 3ms/step - loss: 6.2712 - val_loss: 12.1182\n",
      "Epoch 12/20\n",
      "694/694 [==============================] - 2s 2ms/step - loss: 6.0173 - val_loss: 11.8978\n",
      "Epoch 13/20\n",
      "694/694 [==============================] - 2s 3ms/step - loss: 5.8057 - val_loss: 12.2686\n",
      "Epoch 14/20\n",
      "694/694 [==============================] - 2s 3ms/step - loss: 5.6156 - val_loss: 12.6416\n",
      "Epoch 15/20\n",
      "694/694 [==============================] - 2s 3ms/step - loss: 5.4393 - val_loss: 12.4188\n",
      "Epoch 16/20\n",
      "694/694 [==============================] - 2s 3ms/step - loss: 5.2798 - val_loss: 12.7406\n",
      "Epoch 17/20\n",
      "694/694 [==============================] - 2s 3ms/step - loss: 5.1234 - val_loss: 12.8307\n",
      "Epoch 18/20\n",
      "694/694 [==============================] - 2s 3ms/step - loss: 4.9809 - val_loss: 12.7500\n",
      "Epoch 19/20\n",
      "694/694 [==============================] - 2s 3ms/step - loss: 4.8674 - val_loss: 13.2466\n",
      "Epoch 20/20\n",
      "694/694 [==============================] - 2s 3ms/step - loss: 4.7490 - val_loss: 13.1761\n"
     ]
    },
    {
     "data": {
      "text/plain": [
       "<keras.src.callbacks.History at 0x22cbe9df690>"
      ]
     },
     "execution_count": 38,
     "metadata": {},
     "output_type": "execute_result"
    }
   ],
   "source": [
    "model1.fit([train['new_user_id'], train['new_book_id']], train['Book-Rating'], validation_split=0.2, epochs=20, batch_size=250)"
   ]
  },
  {
   "cell_type": "code",
   "execution_count": 39,
   "metadata": {},
   "outputs": [
    {
     "name": "stdout",
     "output_type": "stream",
     "text": [
      "1695/1695 [==============================] - 2s 946us/step - loss: 13.2022\n"
     ]
    },
    {
     "data": {
      "text/plain": [
       "13.202178001403809"
      ]
     },
     "execution_count": 39,
     "metadata": {},
     "output_type": "execute_result"
    }
   ],
   "source": [
    "model1.evaluate([test['new_user_id'], test['new_book_id']], test['Book-Rating'])"
   ]
  },
  {
   "cell_type": "code",
   "execution_count": 43,
   "metadata": {},
   "outputs": [
    {
     "name": "stdout",
     "output_type": "stream",
     "text": [
      "Epoch 1/5\n",
      "6778/6778 [==============================] - 11s 2ms/step - loss: 5.4775\n",
      "Epoch 2/5\n",
      "6778/6778 [==============================] - 11s 2ms/step - loss: 5.3721\n",
      "Epoch 3/5\n",
      "6778/6778 [==============================] - 12s 2ms/step - loss: 5.2606\n",
      "Epoch 4/5\n",
      "6778/6778 [==============================] - 12s 2ms/step - loss: 5.1793\n",
      "Epoch 5/5\n",
      "6778/6778 [==============================] - 12s 2ms/step - loss: 5.0814\n"
     ]
    },
    {
     "name": "stderr",
     "output_type": "stream",
     "text": [
      "WARNING:absl:`User-Input` is not a valid tf.function parameter name. Sanitizing to `User_Input`.\n",
      "WARNING:absl:`Book-Input` is not a valid tf.function parameter name. Sanitizing to `Book_Input`.\n",
      "WARNING:absl:`User-Input` is not a valid tf.function parameter name. Sanitizing to `User_Input`.\n",
      "WARNING:absl:`Book-Input` is not a valid tf.function parameter name. Sanitizing to `Book_Input`.\n",
      "WARNING:absl:`User-Input` is not a valid tf.function parameter name. Sanitizing to `User_Input`.\n"
     ]
    },
    {
     "name": "stdout",
     "output_type": "stream",
     "text": [
      "INFO:tensorflow:Assets written to: regression_model1\\assets\n"
     ]
    },
    {
     "name": "stderr",
     "output_type": "stream",
     "text": [
      "INFO:tensorflow:Assets written to: regression_model1\\assets\n"
     ]
    },
    {
     "data": {
      "image/png": "[encoded data removed]",
      "text/plain": [
       "<Figure size 640x480 with 1 Axes>"
      ]
     },
     "metadata": {},
     "output_type": "display_data"
    }
   ],
   "source": [
    "from keras.models import load_model\n",
    "\n",
    "if os.path.exists('regression_model1'):\n",
    "    model1 = load_model('regression_model1')\n",
    "else:\n",
    "    history = model1.fit([train['new_user_id'], train['new_book_id']], train['Book-Rating'], epochs=5, verbose=1)\n",
    "    model1.save('regression_model1')\n",
    "    plt.plot(history.history['loss'])\n",
    "    plt.xlabel(\"Epochs\")\n",
    "    plt.ylabel(\"Training Error\")"
   ]
  },
  {
   "cell_type": "code",
   "execution_count": 45,
   "metadata": {},
   "outputs": [
    {
     "name": "stdout",
     "output_type": "stream",
     "text": [
      "1695/1695 [==============================] - 2s 966us/step - loss: 12.9824\n"
     ]
    },
    {
     "data": {
      "text/plain": [
       "12.982351303100586"
      ]
     },
     "execution_count": 45,
     "metadata": {},
     "output_type": "execute_result"
    }
   ],
   "source": [
    "model1.evaluate([test['new_user_id'], test['new_book_id']], test['Book-Rating'])"
   ]
  },
  {
   "cell_type": "code",
   "execution_count": 47,
   "metadata": {},
   "outputs": [
    {
     "name": "stdout",
     "output_type": "stream",
     "text": [
      "1/1 [==============================] - 0s 23ms/step\n",
      "[0.50469756] 5\n",
      "[0.07561013] 0\n",
      "[0.9647428] 0\n",
      "[3.0564287] 8\n",
      "[6.2991343] 10\n",
      "[1.8788239] 0\n",
      "[2.8019812] 0\n",
      "[0.9940767] 0\n",
      "[0.00011989] 0\n",
      "[11.979039] 0\n",
      "[0.8862016] 0\n",
      "[-0.0729318] 0\n",
      "[4.4332395] 0\n",
      "[-0.16159561] 0\n",
      "[1.7601624] 10\n",
      "[0.30744812] 0\n",
      "[2.9661367] 0\n",
      "[9.492433] 10\n",
      "[1.5733092] 0\n",
      "[3.1353383] 0\n"
     ]
    },
    {
     "data": {
      "text/plain": [
       "[None,\n",
       " None,\n",
       " None,\n",
       " None,\n",
       " None,\n",
       " None,\n",
       " None,\n",
       " None,\n",
       " None,\n",
       " None,\n",
       " None,\n",
       " None,\n",
       " None,\n",
       " None,\n",
       " None,\n",
       " None,\n",
       " None,\n",
       " None,\n",
       " None,\n",
       " None]"
      ]
     },
     "execution_count": 47,
     "metadata": {},
     "output_type": "execute_result"
    }
   ],
   "source": [
    "predictions = model1.predict([test['new_user_id'].head(20), test['new_book_id'].head(20)])\n",
    "\n",
    "[print(predictions[i], test['Book-Rating'].iloc[i]) for i in range(0,20)]"
   ]
  },
  {
   "cell_type": "markdown",
   "metadata": {},
   "source": [
    "## Modelo 2"
   ]
  },
  {
   "cell_type": "code",
   "execution_count": 57,
   "metadata": {},
   "outputs": [],
   "source": [
    "from libreco.data import random_split, DatasetPure\n",
    "from libreco.algorithms import NCF  # pure data, \n",
    "from libreco.evaluation import evaluate"
   ]
  },
  {
   "cell_type": "code",
   "execution_count": 61,
   "metadata": {},
   "outputs": [],
   "source": [
    "data = ratings\n",
    "data.columns = [\"user\", \"item\", \"label\"]"
   ]
  },
  {
   "cell_type": "code",
   "execution_count": 62,
   "metadata": {},
   "outputs": [],
   "source": [
    "train_data, eval_data, test_data = random_split(ratings, multi_ratios=[0.8, 0.1, 0.1])"
   ]
  },
  {
   "cell_type": "code",
   "execution_count": 63,
   "metadata": {},
   "outputs": [],
   "source": [
    "train_data, data_info= DatasetPure.build_trainset(train_data)\n",
    "eval_data = DatasetPure.build_evalset(eval_data)\n",
    "test_data = DatasetPure.build_testset(test_data)"
   ]
  },
  {
   "cell_type": "code",
   "execution_count": null,
   "metadata": {},
   "outputs": [],
   "source": [
    "ncf = NCF(\n",
    "    task=\"rating\",\n",
    "    data_info=data_info,\n",
    "    loss_type=\"cross_entropy\",\n",
    "    embed_size=16,\n",
    "    n_epochs=20,\n",
    "    lr=1e-3,\n",
    "    batch_size=500,\n",
    "    num_neg=1,\n",
    ") #rating es para explicit feedback"
   ]
  },
  {
   "cell_type": "code",
   "execution_count": 66,
   "metadata": {
    "scrolled": true
   },
   "outputs": [
    {
     "name": "stdout",
     "output_type": "stream",
     "text": [
      "Training start time: \u001b[35m2023-11-08 19:10:58\u001b[0m\n"
     ]
    },
    {
     "name": "stderr",
     "output_type": "stream",
     "text": [
      "train: 100%|███████████████████████████████████████████████████████████████████████| 7359/7359 [05:28<00:00, 22.37it/s]\n"
     ]
    },
    {
     "name": "stdout",
     "output_type": "stream",
     "text": [
      "Epoch 1 elapsed: 328.921s\n",
      "\t \u001b[32mtrain_loss: 6.5614\u001b[0m\n"
     ]
    },
    {
     "name": "stderr",
     "output_type": "stream",
     "text": [
      "eval_pointwise: 100%|██████████████████████████████████████████████████████████████████| 11/11 [00:00<00:00, 75.99it/s]\n"
     ]
    },
    {
     "name": "stdout",
     "output_type": "stream",
     "text": [
      "\t eval rmse: 3.6347\n",
      "==============================\n"
     ]
    },
    {
     "name": "stderr",
     "output_type": "stream",
     "text": [
      "train: 100%|███████████████████████████████████████████████████████████████████████| 7359/7359 [05:38<00:00, 21.76it/s]\n"
     ]
    },
    {
     "name": "stdout",
     "output_type": "stream",
     "text": [
      "Epoch 2 elapsed: 338.181s\n",
      "\t \u001b[32mtrain_loss: 5.1628\u001b[0m\n"
     ]
    },
    {
     "name": "stderr",
     "output_type": "stream",
     "text": [
      "eval_pointwise: 100%|█████████████████████████████████████████████████████████████████| 11/11 [00:00<00:00, 100.19it/s]\n"
     ]
    },
    {
     "name": "stdout",
     "output_type": "stream",
     "text": [
      "\t eval rmse: 3.6951\n",
      "==============================\n"
     ]
    },
    {
     "name": "stderr",
     "output_type": "stream",
     "text": [
      "train: 100%|███████████████████████████████████████████████████████████████████████| 7359/7359 [25:14<00:00,  4.86it/s]\n"
     ]
    },
    {
     "name": "stdout",
     "output_type": "stream",
     "text": [
      "Epoch 3 elapsed: 1514.366s\n",
      "\t \u001b[32mtrain_loss: 4.299\u001b[0m\n"
     ]
    },
    {
     "name": "stderr",
     "output_type": "stream",
     "text": [
      "eval_pointwise: 100%|██████████████████████████████████████████████████████████████████| 11/11 [00:00<00:00, 79.56it/s]\n"
     ]
    },
    {
     "name": "stdout",
     "output_type": "stream",
     "text": [
      "\t eval rmse: 3.7490\n",
      "==============================\n"
     ]
    },
    {
     "name": "stderr",
     "output_type": "stream",
     "text": [
      "train: 100%|███████████████████████████████████████████████████████████████████████| 7359/7359 [05:52<00:00, 20.86it/s]\n"
     ]
    },
    {
     "name": "stdout",
     "output_type": "stream",
     "text": [
      "Epoch 4 elapsed: 352.759s\n",
      "\t \u001b[32mtrain_loss: 3.5739\u001b[0m\n"
     ]
    },
    {
     "name": "stderr",
     "output_type": "stream",
     "text": [
      "eval_pointwise: 100%|██████████████████████████████████████████████████████████████████| 11/11 [00:00<00:00, 86.74it/s]\n"
     ]
    },
    {
     "name": "stdout",
     "output_type": "stream",
     "text": [
      "\t eval rmse: 3.8675\n",
      "==============================\n"
     ]
    },
    {
     "name": "stderr",
     "output_type": "stream",
     "text": [
      "train: 100%|███████████████████████████████████████████████████████████████████████| 7359/7359 [05:58<00:00, 20.52it/s]\n"
     ]
    },
    {
     "name": "stdout",
     "output_type": "stream",
     "text": [
      "Epoch 5 elapsed: 358.641s\n",
      "\t \u001b[32mtrain_loss: 3.0781\u001b[0m\n"
     ]
    },
    {
     "name": "stderr",
     "output_type": "stream",
     "text": [
      "eval_pointwise: 100%|██████████████████████████████████████████████████████████████████| 11/11 [00:00<00:00, 88.88it/s]\n"
     ]
    },
    {
     "name": "stdout",
     "output_type": "stream",
     "text": [
      "\t eval rmse: 3.8747\n",
      "==============================\n"
     ]
    },
    {
     "name": "stderr",
     "output_type": "stream",
     "text": [
      "train: 100%|███████████████████████████████████████████████████████████████████████| 7359/7359 [05:33<00:00, 22.06it/s]\n"
     ]
    },
    {
     "name": "stdout",
     "output_type": "stream",
     "text": [
      "Epoch 6 elapsed: 333.634s\n",
      "\t \u001b[32mtrain_loss: 2.7357\u001b[0m\n"
     ]
    },
    {
     "name": "stderr",
     "output_type": "stream",
     "text": [
      "eval_pointwise: 100%|██████████████████████████████████████████████████████████████████| 11/11 [00:00<00:00, 84.02it/s]\n"
     ]
    },
    {
     "name": "stdout",
     "output_type": "stream",
     "text": [
      "\t eval rmse: 3.9709\n",
      "==============================\n"
     ]
    },
    {
     "name": "stderr",
     "output_type": "stream",
     "text": [
      "train: 100%|███████████████████████████████████████████████████████████████████████| 7359/7359 [05:24<00:00, 22.68it/s]\n"
     ]
    },
    {
     "name": "stdout",
     "output_type": "stream",
     "text": [
      "Epoch 7 elapsed: 324.473s\n",
      "\t \u001b[32mtrain_loss: 2.5019\u001b[0m\n"
     ]
    },
    {
     "name": "stderr",
     "output_type": "stream",
     "text": [
      "eval_pointwise: 100%|██████████████████████████████████████████████████████████████████| 11/11 [00:00<00:00, 88.23it/s]\n"
     ]
    },
    {
     "name": "stdout",
     "output_type": "stream",
     "text": [
      "\t eval rmse: 4.0016\n",
      "==============================\n"
     ]
    },
    {
     "name": "stderr",
     "output_type": "stream",
     "text": [
      "train: 100%|███████████████████████████████████████████████████████████████████████| 7359/7359 [05:29<00:00, 22.31it/s]\n"
     ]
    },
    {
     "name": "stdout",
     "output_type": "stream",
     "text": [
      "Epoch 8 elapsed: 329.819s\n",
      "\t \u001b[32mtrain_loss: 2.3314\u001b[0m\n"
     ]
    },
    {
     "name": "stderr",
     "output_type": "stream",
     "text": [
      "eval_pointwise: 100%|██████████████████████████████████████████████████████████████████| 11/11 [00:00<00:00, 88.51it/s]\n"
     ]
    },
    {
     "name": "stdout",
     "output_type": "stream",
     "text": [
      "\t eval rmse: 4.0225\n",
      "==============================\n"
     ]
    },
    {
     "name": "stderr",
     "output_type": "stream",
     "text": [
      "train: 100%|███████████████████████████████████████████████████████████████████████| 7359/7359 [05:18<00:00, 23.13it/s]\n"
     ]
    },
    {
     "name": "stdout",
     "output_type": "stream",
     "text": [
      "Epoch 9 elapsed: 318.114s\n",
      "\t \u001b[32mtrain_loss: 2.1923\u001b[0m\n"
     ]
    },
    {
     "name": "stderr",
     "output_type": "stream",
     "text": [
      "eval_pointwise: 100%|██████████████████████████████████████████████████████████████████| 11/11 [00:00<00:00, 84.11it/s]\n"
     ]
    },
    {
     "name": "stdout",
     "output_type": "stream",
     "text": [
      "\t eval rmse: 4.1005\n",
      "==============================\n"
     ]
    },
    {
     "name": "stderr",
     "output_type": "stream",
     "text": [
      "train: 100%|███████████████████████████████████████████████████████████████████████| 7359/7359 [05:20<00:00, 22.95it/s]\n"
     ]
    },
    {
     "name": "stdout",
     "output_type": "stream",
     "text": [
      "Epoch 10 elapsed: 320.713s\n",
      "\t \u001b[32mtrain_loss: 2.0726\u001b[0m\n"
     ]
    },
    {
     "name": "stderr",
     "output_type": "stream",
     "text": [
      "eval_pointwise: 100%|██████████████████████████████████████████████████████████████████| 11/11 [00:00<00:00, 80.22it/s]\n"
     ]
    },
    {
     "name": "stdout",
     "output_type": "stream",
     "text": [
      "\t eval rmse: 4.1073\n",
      "==============================\n"
     ]
    },
    {
     "name": "stderr",
     "output_type": "stream",
     "text": [
      "train: 100%|███████████████████████████████████████████████████████████████████████| 7359/7359 [05:13<00:00, 23.45it/s]\n"
     ]
    },
    {
     "name": "stdout",
     "output_type": "stream",
     "text": [
      "Epoch 11 elapsed: 313.817s\n",
      "\t \u001b[32mtrain_loss: 1.9761\u001b[0m\n"
     ]
    },
    {
     "name": "stderr",
     "output_type": "stream",
     "text": [
      "eval_pointwise: 100%|██████████████████████████████████████████████████████████████████| 11/11 [00:00<00:00, 93.57it/s]\n"
     ]
    },
    {
     "name": "stdout",
     "output_type": "stream",
     "text": [
      "\t eval rmse: 4.0845\n",
      "==============================\n"
     ]
    },
    {
     "name": "stderr",
     "output_type": "stream",
     "text": [
      "train: 100%|███████████████████████████████████████████████████████████████████████| 7359/7359 [05:21<00:00, 22.92it/s]\n"
     ]
    },
    {
     "name": "stdout",
     "output_type": "stream",
     "text": [
      "Epoch 12 elapsed: 321.108s\n",
      "\t \u001b[32mtrain_loss: 1.8975\u001b[0m\n"
     ]
    },
    {
     "name": "stderr",
     "output_type": "stream",
     "text": [
      "eval_pointwise: 100%|██████████████████████████████████████████████████████████████████| 11/11 [00:00<00:00, 89.32it/s]\n"
     ]
    },
    {
     "name": "stdout",
     "output_type": "stream",
     "text": [
      "\t eval rmse: 4.1109\n",
      "==============================\n"
     ]
    },
    {
     "name": "stderr",
     "output_type": "stream",
     "text": [
      "train: 100%|███████████████████████████████████████████████████████████████████████| 7359/7359 [05:23<00:00, 22.78it/s]\n"
     ]
    },
    {
     "name": "stdout",
     "output_type": "stream",
     "text": [
      "Epoch 13 elapsed: 323.102s\n",
      "\t \u001b[32mtrain_loss: 1.8122\u001b[0m\n"
     ]
    },
    {
     "name": "stderr",
     "output_type": "stream",
     "text": [
      "eval_pointwise: 100%|██████████████████████████████████████████████████████████████████| 11/11 [00:00<00:00, 77.53it/s]\n"
     ]
    },
    {
     "name": "stdout",
     "output_type": "stream",
     "text": [
      "\t eval rmse: 4.1684\n",
      "==============================\n"
     ]
    },
    {
     "name": "stderr",
     "output_type": "stream",
     "text": [
      "train: 100%|███████████████████████████████████████████████████████████████████████| 7359/7359 [05:21<00:00, 22.91it/s]\n"
     ]
    },
    {
     "name": "stdout",
     "output_type": "stream",
     "text": [
      "Epoch 14 elapsed: 321.246s\n",
      "\t \u001b[32mtrain_loss: 1.7605\u001b[0m\n"
     ]
    },
    {
     "name": "stderr",
     "output_type": "stream",
     "text": [
      "eval_pointwise: 100%|██████████████████████████████████████████████████████████████████| 11/11 [00:00<00:00, 92.49it/s]\n"
     ]
    },
    {
     "name": "stdout",
     "output_type": "stream",
     "text": [
      "\t eval rmse: 4.0691\n",
      "==============================\n"
     ]
    },
    {
     "name": "stderr",
     "output_type": "stream",
     "text": [
      "train: 100%|███████████████████████████████████████████████████████████████████████| 7359/7359 [05:18<00:00, 23.07it/s]\n"
     ]
    },
    {
     "name": "stdout",
     "output_type": "stream",
     "text": [
      "Epoch 15 elapsed: 318.974s\n",
      "\t \u001b[32mtrain_loss: 1.7058\u001b[0m\n"
     ]
    },
    {
     "name": "stderr",
     "output_type": "stream",
     "text": [
      "eval_pointwise: 100%|██████████████████████████████████████████████████████████████████| 11/11 [00:00<00:00, 96.56it/s]\n"
     ]
    },
    {
     "name": "stdout",
     "output_type": "stream",
     "text": [
      "\t eval rmse: 4.1140\n",
      "==============================\n"
     ]
    },
    {
     "name": "stderr",
     "output_type": "stream",
     "text": [
      "train: 100%|███████████████████████████████████████████████████████████████████████| 7359/7359 [05:17<00:00, 23.16it/s]\n"
     ]
    },
    {
     "name": "stdout",
     "output_type": "stream",
     "text": [
      "Epoch 16 elapsed: 317.706s\n",
      "\t \u001b[32mtrain_loss: 1.6509\u001b[0m\n"
     ]
    },
    {
     "name": "stderr",
     "output_type": "stream",
     "text": [
      "eval_pointwise: 100%|█████████████████████████████████████████████████████████████████| 11/11 [00:00<00:00, 103.21it/s]\n"
     ]
    },
    {
     "name": "stdout",
     "output_type": "stream",
     "text": [
      "\t eval rmse: 4.1047\n",
      "==============================\n"
     ]
    },
    {
     "name": "stderr",
     "output_type": "stream",
     "text": [
      "train: 100%|███████████████████████████████████████████████████████████████████████| 7359/7359 [05:17<00:00, 23.20it/s]\n"
     ]
    },
    {
     "name": "stdout",
     "output_type": "stream",
     "text": [
      "Epoch 17 elapsed: 317.217s\n",
      "\t \u001b[32mtrain_loss: 1.6133\u001b[0m\n"
     ]
    },
    {
     "name": "stderr",
     "output_type": "stream",
     "text": [
      "eval_pointwise: 100%|██████████████████████████████████████████████████████████████████| 11/11 [00:00<00:00, 89.27it/s]\n"
     ]
    },
    {
     "name": "stdout",
     "output_type": "stream",
     "text": [
      "\t eval rmse: 4.1319\n",
      "==============================\n"
     ]
    },
    {
     "name": "stderr",
     "output_type": "stream",
     "text": [
      "train: 100%|███████████████████████████████████████████████████████████████████████| 7359/7359 [05:29<00:00, 22.32it/s]\n"
     ]
    },
    {
     "name": "stdout",
     "output_type": "stream",
     "text": [
      "Epoch 18 elapsed: 329.742s\n",
      "\t \u001b[32mtrain_loss: 1.575\u001b[0m\n"
     ]
    },
    {
     "name": "stderr",
     "output_type": "stream",
     "text": [
      "eval_pointwise: 100%|██████████████████████████████████████████████████████████████████| 11/11 [00:00<00:00, 78.01it/s]\n"
     ]
    },
    {
     "name": "stdout",
     "output_type": "stream",
     "text": [
      "\t eval rmse: 4.1613\n",
      "==============================\n"
     ]
    },
    {
     "name": "stderr",
     "output_type": "stream",
     "text": [
      "train: 100%|███████████████████████████████████████████████████████████████████████| 7359/7359 [05:45<00:00, 21.32it/s]\n"
     ]
    },
    {
     "name": "stdout",
     "output_type": "stream",
     "text": [
      "Epoch 19 elapsed: 345.177s\n",
      "\t \u001b[32mtrain_loss: 1.529\u001b[0m\n"
     ]
    },
    {
     "name": "stderr",
     "output_type": "stream",
     "text": [
      "eval_pointwise: 100%|██████████████████████████████████████████████████████████████████| 11/11 [00:00<00:00, 87.69it/s]\n"
     ]
    },
    {
     "name": "stdout",
     "output_type": "stream",
     "text": [
      "\t eval rmse: 4.1778\n",
      "==============================\n"
     ]
    },
    {
     "name": "stderr",
     "output_type": "stream",
     "text": [
      "train: 100%|███████████████████████████████████████████████████████████████████████| 7359/7359 [05:35<00:00, 21.91it/s]\n"
     ]
    },
    {
     "name": "stdout",
     "output_type": "stream",
     "text": [
      "Epoch 20 elapsed: 335.852s\n",
      "\t \u001b[32mtrain_loss: 1.4988\u001b[0m\n"
     ]
    },
    {
     "name": "stderr",
     "output_type": "stream",
     "text": [
      "eval_pointwise: 100%|██████████████████████████████████████████████████████████████████| 11/11 [00:00<00:00, 86.78it/s]\n"
     ]
    },
    {
     "name": "stdout",
     "output_type": "stream",
     "text": [
      "\t eval rmse: 4.1671\n",
      "==============================\n"
     ]
    },
    {
     "name": "stderr",
     "output_type": "stream",
     "text": [
      "eval_pointwise: 100%|██████████████████████████████████████████████████████████████████| 11/11 [00:00<00:00, 76.55it/s]\n"
     ]
    },
    {
     "data": {
      "text/plain": [
       "{'loss': 4.1585937}"
      ]
     },
     "execution_count": 66,
     "metadata": {},
     "output_type": "execute_result"
    }
   ],
   "source": [
    "# monitor metrics on eval data during training\n",
    "ncf.fit(\n",
    "    train_data,\n",
    "    neg_sampling=False, #for rating, this param is false else True\n",
    "    verbose=2,\n",
    "    eval_data=eval_data,\n",
    "    metrics=[\"loss\"],\n",
    ")\n",
    "\n",
    "# do final evaluation on test data\n",
    "evaluate(\n",
    "    model=ncf,\n",
    "    data=test_data,\n",
    "    neg_sampling=False,\n",
    "    metrics=[\"loss\"],\n",
    ")"
   ]
  },
  {
   "cell_type": "code",
   "execution_count": 77,
   "metadata": {},
   "outputs": [],
   "source": [
    "def buscar_libros_por_ISBN(diccionario):\n",
    "    resultados = []\n",
    "\n",
    "    for user_id, valores in diccionario.items():\n",
    "        for valor in valores:\n",
    "            libros_encontrados = books[books['ISBN'] == valor]\n",
    "            if not libros_encontrados.empty:\n",
    "                for idx, row in libros_encontrados.iterrows():\n",
    "                    resultados.append([row['ISBN'], row['Book-Title'], row['Book-Author']])\n",
    "    \n",
    "    if resultados:\n",
    "        tabla_resultados = pd.DataFrame(resultados, columns=['ISBN', 'Book-Title', 'Book-Author'])\n",
    "        return tabla_resultados\n",
    "    else:\n",
    "        return None"
   ]
  },
  {
   "cell_type": "code",
   "execution_count": 72,
   "metadata": {},
   "outputs": [
    {
     "data": {
      "text/plain": [
       "array([7.1623745], dtype=float32)"
      ]
     },
     "execution_count": 72,
     "metadata": {},
     "output_type": "execute_result"
    }
   ],
   "source": [
    "# predecir preferencia del usario 276747 en ISBN 0060517794\n",
    "ncf.predict(user=276747, item='0943066433')"
   ]
  },
  {
   "cell_type": "code",
   "execution_count": 78,
   "metadata": {},
   "outputs": [
    {
     "data": {
      "text/html": [
       "<div>\n",
       "<style scoped>\n",
       "    .dataframe tbody tr th:only-of-type {\n",
       "        vertical-align: middle;\n",
       "    }\n",
       "\n",
       "    .dataframe tbody tr th {\n",
       "        vertical-align: top;\n",
       "    }\n",
       "\n",
       "    .dataframe thead th {\n",
       "        text-align: right;\n",
       "    }\n",
       "</style>\n",
       "<table border=\"1\" class=\"dataframe\">\n",
       "  <thead>\n",
       "    <tr style=\"text-align: right;\">\n",
       "      <th></th>\n",
       "      <th>ISBN</th>\n",
       "      <th>Book-Title</th>\n",
       "      <th>Book-Author</th>\n",
       "    </tr>\n",
       "  </thead>\n",
       "  <tbody>\n",
       "    <tr>\n",
       "      <th>0</th>\n",
       "      <td>0740723367</td>\n",
       "      <td>The Meaning Of Life</td>\n",
       "      <td>Bradley Trevor Greive</td>\n",
       "    </tr>\n",
       "    <tr>\n",
       "      <th>1</th>\n",
       "      <td>0743444477</td>\n",
       "      <td>Letters for Emily</td>\n",
       "      <td>Camron Wright</td>\n",
       "    </tr>\n",
       "    <tr>\n",
       "      <th>2</th>\n",
       "      <td>0152802177</td>\n",
       "      <td>Stellaluna</td>\n",
       "      <td>Janell Cannon</td>\n",
       "    </tr>\n",
       "    <tr>\n",
       "      <th>3</th>\n",
       "      <td>0505522764</td>\n",
       "      <td>Dreams of an Eagle (Paranormal Romance)</td>\n",
       "      <td>Lori Handeland</td>\n",
       "    </tr>\n",
       "    <tr>\n",
       "      <th>4</th>\n",
       "      <td>0446677736</td>\n",
       "      <td>The Score (Parker Novels)</td>\n",
       "      <td>Richard Stark</td>\n",
       "    </tr>\n",
       "    <tr>\n",
       "      <th>5</th>\n",
       "      <td>044990928X</td>\n",
       "      <td>Operating Instructions: A Journal of My Son's ...</td>\n",
       "      <td>Anne Lamott</td>\n",
       "    </tr>\n",
       "    <tr>\n",
       "      <th>6</th>\n",
       "      <td>0064404773</td>\n",
       "      <td>Beauty: A Retelling of the Story of Beauty and...</td>\n",
       "      <td>Robin McKinley</td>\n",
       "    </tr>\n",
       "    <tr>\n",
       "      <th>7</th>\n",
       "      <td>0671787268</td>\n",
       "      <td>The Girls He Adored</td>\n",
       "      <td>Jonathan Nasaw</td>\n",
       "    </tr>\n",
       "  </tbody>\n",
       "</table>\n",
       "</div>"
      ],
      "text/plain": [
       "         ISBN                                         Book-Title  \\\n",
       "0  0740723367                                The Meaning Of Life   \n",
       "1  0743444477                                  Letters for Emily   \n",
       "2  0152802177                                         Stellaluna   \n",
       "3  0505522764            Dreams of an Eagle (Paranormal Romance)   \n",
       "4  0446677736                          The Score (Parker Novels)   \n",
       "5  044990928X  Operating Instructions: A Journal of My Son's ...   \n",
       "6  0064404773  Beauty: A Retelling of the Story of Beauty and...   \n",
       "7  0671787268                                The Girls He Adored   \n",
       "\n",
       "             Book-Author  \n",
       "0  Bradley Trevor Greive  \n",
       "1          Camron Wright  \n",
       "2          Janell Cannon  \n",
       "3         Lori Handeland  \n",
       "4          Richard Stark  \n",
       "5            Anne Lamott  \n",
       "6         Robin McKinley  \n",
       "7         Jonathan Nasaw  "
      ]
     },
     "execution_count": 78,
     "metadata": {},
     "output_type": "execute_result"
    }
   ],
   "source": [
    "# recommendar 10 ISBN para usuario 276747\n",
    "buscar_libros_por_ISBN(ncf.recommend_user(user=276747, n_rec=10))"
   ]
  }
 ],
 "metadata": {
  "kernelspec": {
   "display_name": "Python 3 (ipykernel)",
   "language": "python",
   "name": "python3"
  },
  "language_info": {
   "codemirror_mode": {
    "name": "ipython",
    "version": 3
   },
   "file_extension": ".py",
   "mimetype": "text/x-python",
   "name": "python",
   "nbconvert_exporter": "python",
   "pygments_lexer": "ipython3",
   "version": "3.11.1"
  }
 },
 "nbformat": 4,
 "nbformat_minor": 4
}
